{
 "cells": [
  {
   "cell_type": "markdown",
   "id": "c67b144f",
   "metadata": {},
   "source": [
    "Data Sourcing - Python\n",
    "\n",
    "Livia Ellen\n",
    "Bali\n"
   ]
  },
  {
   "cell_type": "markdown",
   "id": "53d0f2e6",
   "metadata": {},
   "source": [
    "# CSV opening"
   ]
  },
  {
   "cell_type": "markdown",
   "id": "5cd5f211",
   "metadata": {},
   "source": [
    "%% bash is a terminal command, \n",
    "\n",
    "Jupyter Notebook with Python kernel only runs Python code. \n",
    "To run a terminal command, we have to use %% bash or !\n",
    "\n"
   ]
  },
  {
   "cell_type": "code",
   "execution_count": 1,
   "id": "357b7ff5",
   "metadata": {},
   "outputs": [],
   "source": [
    "!mkdir test"
   ]
  },
  {
   "cell_type": "code",
   "execution_count": 3,
   "id": "884b24ca",
   "metadata": {},
   "outputs": [],
   "source": [
    "!rm -rf test"
   ]
  },
  {
   "cell_type": "code",
   "execution_count": 4,
   "id": "f7ce897a",
   "metadata": {},
   "outputs": [
    {
     "name": "stdout",
     "output_type": "stream",
     "text": [
      "John,Doe,120 jefferson st.,Riverside, NJ, 08075\n",
      "Jack,McGinnis,220 hobo Av.,Phila, PA,09119\n",
      "\"John \"\"Da Man\"\"\",Repici,120 Jefferson St.,Riverside, NJ,08075\n",
      "Stephen,Tyler,\"7452 Terrace \"\"At the Plaza\"\" road\",SomeTown,SD, 91234\n",
      ",Blankman,,SomeTown, SD, 00298\n",
      "\"Joan \"\"the bone\"\", Anne\",Jet,\"9th, at Terrace plc\",Desert City,CO,00123\n"
     ]
    }
   ],
   "source": [
    "%%bash\n",
    "mkdir -p data\n",
    "curl -s https://people.sc.fsu.edu/~jburkardt/data/csv/addresses.csv > data/addresses.csv\n",
    "cat data/addresses.csv"
   ]
  },
  {
   "cell_type": "code",
   "execution_count": 5,
   "id": "38ca3e65",
   "metadata": {},
   "outputs": [
    {
     "name": "stdout",
     "output_type": "stream",
     "text": [
      "/Users/livia_ellen/Desktop/lectures/week 1/Data Sourcing Lectures - Ellen\r\n"
     ]
    }
   ],
   "source": [
    "!pwd"
   ]
  },
  {
   "cell_type": "code",
   "execution_count": 6,
   "id": "4c702a6a",
   "metadata": {},
   "outputs": [
    {
     "name": "stdout",
     "output_type": "stream",
     "text": [
      "API-Cheatsheet 2nd challenge.ipynb\r\n",
      "BONUS LOOP - Recap - DATA SOURCING - Livia Ellen .ipynb\r\n",
      "Lecture Data Sourcing_LiviaEllen.ipynb\r\n",
      "Test Scraping.ipynb\r\n",
      "\u001b[1m\u001b[36mdata\u001b[m\u001b[m\r\n"
     ]
    }
   ],
   "source": [
    "! ls "
   ]
  },
  {
   "cell_type": "code",
   "execution_count": 249,
   "id": "4c4023ed",
   "metadata": {},
   "outputs": [
    {
     "name": "stdout",
     "output_type": "stream",
     "text": [
      "addresses.csv biostats.csv  movielist.csv\r\n"
     ]
    }
   ],
   "source": [
    "!ls data"
   ]
  },
  {
   "cell_type": "code",
   "execution_count": 250,
   "id": "a3a7cdbb",
   "metadata": {},
   "outputs": [
    {
     "data": {
      "text/plain": [
       "\"hello I'm Ellen\""
      ]
     },
     "execution_count": 250,
     "metadata": {},
     "output_type": "execute_result"
    }
   ],
   "source": [
    "\"hello I'm Ellen\""
   ]
  },
  {
   "cell_type": "markdown",
   "id": "62f6cb4d",
   "metadata": {},
   "source": [
    "# Without Header"
   ]
  },
  {
   "cell_type": "code",
   "execution_count": 2,
   "id": "f9096c67",
   "metadata": {},
   "outputs": [
    {
     "name": "stdout",
     "output_type": "stream",
     "text": [
      "['John', 'Doe', '120 jefferson st.', 'Riverside', 'NJ', '08075']\n",
      "['Jack', 'McGinnis', '220 hobo Av.', 'Phila', 'PA', '09119']\n",
      "['John \"Da Man\"', 'Repici', '120 Jefferson St.', 'Riverside', 'NJ', '08075']\n",
      "['Stephen', 'Tyler', '7452 Terrace \"At the Plaza\" road', 'SomeTown', 'SD', '91234']\n",
      "['', 'Blankman', '', 'SomeTown', 'SD', '00298']\n",
      "['Joan \"the bone\", Anne', 'Jet', '9th, at Terrace plc', 'Desert City', 'CO', '00123']\n"
     ]
    }
   ],
   "source": [
    "import csv\n",
    "\n",
    "with open('data/addresses.csv') as csvfile:\n",
    "    reader = csv.reader(csvfile, skipinitialspace=True)\n",
    "    for row in reader:\n",
    "        # row is a `list`\n",
    "        print(row)"
   ]
  },
  {
   "cell_type": "code",
   "execution_count": 252,
   "id": "05085605",
   "metadata": {},
   "outputs": [],
   "source": [
    "def sum_2_numbers(a,b):\n",
    "    \"\"\"this is sum function\"\"\"\n",
    "    # this is a comment\n",
    "    return a+b"
   ]
  },
  {
   "cell_type": "code",
   "execution_count": 253,
   "id": "e7f9b536",
   "metadata": {},
   "outputs": [
    {
     "name": "stdout",
     "output_type": "stream",
     "text": [
      "Help on function sum_2_numbers in module __main__:\n",
      "\n",
      "sum_2_numbers(a, b)\n",
      "    this is sum function\n",
      "\n"
     ]
    }
   ],
   "source": [
    "help(sum_2_numbers)"
   ]
  },
  {
   "cell_type": "code",
   "execution_count": 261,
   "id": "fdf820a1",
   "metadata": {},
   "outputs": [
    {
     "data": {
      "text/plain": [
       "7"
      ]
     },
     "execution_count": 261,
     "metadata": {},
     "output_type": "execute_result"
    }
   ],
   "source": [
    "sum_2_numbers(3,4) #press shift+Tab "
   ]
  },
  {
   "cell_type": "code",
   "execution_count": 263,
   "id": "2bd9b080",
   "metadata": {},
   "outputs": [
    {
     "data": {
      "text/plain": [
       "csv.DictReader"
      ]
     },
     "execution_count": 263,
     "metadata": {},
     "output_type": "execute_result"
    }
   ],
   "source": [
    "csv.DictReader #press shift+Tab to see the info & documentation"
   ]
  },
  {
   "cell_type": "markdown",
   "id": "a35791a5",
   "metadata": {},
   "source": [
    "## With header"
   ]
  },
  {
   "cell_type": "code",
   "execution_count": null,
   "id": "29718e09",
   "metadata": {},
   "outputs": [],
   "source": []
  },
  {
   "cell_type": "code",
   "execution_count": 264,
   "id": "bc311ffe",
   "metadata": {},
   "outputs": [
    {
     "name": "stdout",
     "output_type": "stream",
     "text": [
      "\"Name\",     \"Sex\", \"Age\", \"Height (in)\", \"Weight (lbs)\"\n",
      "\"Alex\",       \"M\",   41,       74,      170\n",
      "\"Bert\",       \"M\",   42,       68,      166\n",
      "\"Carl\",       \"M\",   32,       70,      155\n",
      "\"Dave\",       \"M\",   39,       72,      167\n"
     ]
    }
   ],
   "source": [
    "%%bash \n",
    "curl -s https://people.sc.fsu.edu/~jburkardt/data/csv/biostats.csv > data/biostats.csv\n",
    "head -n 5 data/biostats.csv"
   ]
  },
  {
   "cell_type": "code",
   "execution_count": null,
   "id": "e3a88342-c556-464f-a60c-d1572492cba5",
   "metadata": {},
   "outputs": [],
   "source": []
  },
  {
   "cell_type": "code",
   "execution_count": 257,
   "id": "45f06998",
   "metadata": {},
   "outputs": [
    {
     "name": "stdout",
     "output_type": "stream",
     "text": [
      "\"Name\",     \"Sex\", \"Age\", \"Height (in)\", \"Weight (lbs)\"\r\n",
      "\"Alex\",       \"M\",   41,       74,      170\r\n",
      "\"Bert\",       \"M\",   42,       68,      166\r\n",
      "\"Carl\",       \"M\",   32,       70,      155\r\n",
      "\"Dave\",       \"M\",   39,       72,      167\r\n",
      "\"Elly\",       \"F\",   30,       66,      124\r\n",
      "\"Fran\",       \"F\",   33,       66,      115\r\n",
      "\"Gwen\",       \"F\",   26,       64,      121\r\n",
      "\"Hank\",       \"M\",   30,       71,      158\r\n",
      "\"Ivan\",       \"M\",   53,       72,      175\r\n",
      "\"Jake\",       \"M\",   32,       69,      143\r\n",
      "\"Kate\",       \"F\",   47,       69,      139\r\n",
      "\"Luke\",       \"M\",   34,       72,      163\r\n",
      "\"Myra\",       \"F\",   23,       62,       98\r\n",
      "\"Neil\",       \"M\",   36,       75,      160\r\n",
      "\"Omar\",       \"M\",   38,       70,      145\r\n",
      "\"Page\",       \"F\",   31,       67,      135\r\n",
      "\"Quin\",       \"M\",   29,       71,      176\r\n",
      "\"Ruth\",       \"F\",   28,       65,      131\r\n",
      "\r\n"
     ]
    }
   ],
   "source": [
    "!cat data/biostats.csv"
   ]
  },
  {
   "cell_type": "code",
   "execution_count": 3,
   "id": "a8572f45",
   "metadata": {},
   "outputs": [],
   "source": [
    "row={'Name': 'Alex', 'Sex': 'M', 'Age': '41', 'Height (in)': '74', 'Weight (lbs)': '170'}"
   ]
  },
  {
   "cell_type": "code",
   "execution_count": 4,
   "id": "87c37ef2",
   "metadata": {},
   "outputs": [
    {
     "data": {
      "text/plain": [
       "'41'"
      ]
     },
     "execution_count": 4,
     "metadata": {},
     "output_type": "execute_result"
    }
   ],
   "source": [
    "row['Age']"
   ]
  },
  {
   "cell_type": "code",
   "execution_count": 10,
   "id": "e656bbba",
   "metadata": {},
   "outputs": [
    {
     "name": "stdout",
     "output_type": "stream",
     "text": [
      "{'Name': 'Alex', 'Sex': 'M', 'Age': '41', 'Height (in)': '74', 'Weight (lbs)': '170'}\n",
      "{'Name': 'Bert', 'Sex': 'M', 'Age': '42', 'Height (in)': '68', 'Weight (lbs)': '166'}\n",
      "{'Name': 'Carl', 'Sex': 'M', 'Age': '32', 'Height (in)': '70', 'Weight (lbs)': '155'}\n",
      "{'Name': 'Dave', 'Sex': 'M', 'Age': '39', 'Height (in)': '72', 'Weight (lbs)': '167'}\n",
      "{'Name': 'Elly', 'Sex': 'F', 'Age': '30', 'Height (in)': '66', 'Weight (lbs)': '124'}\n",
      "{'Name': 'Fran', 'Sex': 'F', 'Age': '33', 'Height (in)': '66', 'Weight (lbs)': '115'}\n",
      "{'Name': 'Gwen', 'Sex': 'F', 'Age': '26', 'Height (in)': '64', 'Weight (lbs)': '121'}\n",
      "{'Name': 'Hank', 'Sex': 'M', 'Age': '30', 'Height (in)': '71', 'Weight (lbs)': '158'}\n",
      "{'Name': 'Ivan', 'Sex': 'M', 'Age': '53', 'Height (in)': '72', 'Weight (lbs)': '175'}\n",
      "{'Name': 'Jake', 'Sex': 'M', 'Age': '32', 'Height (in)': '69', 'Weight (lbs)': '143'}\n",
      "{'Name': 'Kate', 'Sex': 'F', 'Age': '47', 'Height (in)': '69', 'Weight (lbs)': '139'}\n",
      "{'Name': 'Luke', 'Sex': 'M', 'Age': '34', 'Height (in)': '72', 'Weight (lbs)': '163'}\n",
      "{'Name': 'Myra', 'Sex': 'F', 'Age': '23', 'Height (in)': '62', 'Weight (lbs)': '98'}\n",
      "{'Name': 'Neil', 'Sex': 'M', 'Age': '36', 'Height (in)': '75', 'Weight (lbs)': '160'}\n",
      "{'Name': 'Omar', 'Sex': 'M', 'Age': '38', 'Height (in)': '70', 'Weight (lbs)': '145'}\n",
      "{'Name': 'Page', 'Sex': 'F', 'Age': '31', 'Height (in)': '67', 'Weight (lbs)': '135'}\n",
      "{'Name': 'Quin', 'Sex': 'M', 'Age': '29', 'Height (in)': '71', 'Weight (lbs)': '176'}\n",
      "{'Name': 'Ruth', 'Sex': 'F', 'Age': '28', 'Height (in)': '65', 'Weight (lbs)': '131'}\n"
     ]
    }
   ],
   "source": [
    "import csv\n",
    "\n",
    "\n",
    "\n",
    "with open('data/biostats.csv') as file1:\n",
    "    reader = csv.DictReader(file1, skipinitialspace=True)\n",
    "    \n",
    "    for row in reader:\n",
    "         # row is a collections.OrderedDict\n",
    "        #print(row)\n",
    "        print(row['Name'], row['Sex'], row['Age'])"
   ]
  },
  {
   "cell_type": "markdown",
   "id": "9b64ee5e",
   "metadata": {},
   "source": [
    "## Writing a CSV"
   ]
  },
  {
   "cell_type": "code",
   "execution_count": 19,
   "id": "3d4740f5",
   "metadata": {},
   "outputs": [],
   "source": [
    "beatles = [\n",
    "    { 'first_name': 'John', 'last_name': 'lennon', 'instrument': 'guitar'},\n",
    "    { 'first_name': 'Ringo', 'last_name': 'Starr', 'instrument': 'drums'},\n",
    "    { 'first_name': 'Livia', 'last_name': 'Ellen', 'instrument': 'guitar'}\n",
    "]"
   ]
  },
  {
   "cell_type": "code",
   "execution_count": 20,
   "id": "293a065a-d0e6-458c-8f9a-8b210804c7f6",
   "metadata": {},
   "outputs": [
    {
     "data": {
      "text/plain": [
       "dict_keys(['first_name', 'last_name', 'instrument'])"
      ]
     },
     "execution_count": 20,
     "metadata": {},
     "output_type": "execute_result"
    }
   ],
   "source": [
    "beatles[0].keys()"
   ]
  },
  {
   "cell_type": "code",
   "execution_count": 21,
   "id": "db11d8bb",
   "metadata": {},
   "outputs": [],
   "source": [
    "beatle=beatles[0]"
   ]
  },
  {
   "cell_type": "code",
   "execution_count": 22,
   "id": "74b98fa1",
   "metadata": {},
   "outputs": [],
   "source": [
    "beatle_value=list(beatle.values())"
   ]
  },
  {
   "cell_type": "code",
   "execution_count": 23,
   "id": "68c72d5e",
   "metadata": {},
   "outputs": [
    {
     "data": {
      "text/plain": [
       "['John', 'lennon', 'guitar']"
      ]
     },
     "execution_count": 23,
     "metadata": {},
     "output_type": "execute_result"
    }
   ],
   "source": [
    "beatle_value"
   ]
  },
  {
   "cell_type": "code",
   "execution_count": 24,
   "id": "f7dfdd72",
   "metadata": {},
   "outputs": [
    {
     "data": {
      "text/plain": [
       "'first_name'"
      ]
     },
     "execution_count": 24,
     "metadata": {},
     "output_type": "execute_result"
    }
   ],
   "source": [
    "\n",
    "list(beatle.keys())[[x for x in range(len(beatle_value))  if beatle_value[x]=='John'][0]]"
   ]
  },
  {
   "cell_type": "code",
   "execution_count": 25,
   "id": "28a92812",
   "metadata": {},
   "outputs": [
    {
     "ename": "SyntaxError",
     "evalue": "invalid syntax (226654128.py, line 1)",
     "output_type": "error",
     "traceback": [
      "\u001b[0;36m  Cell \u001b[0;32mIn[25], line 1\u001b[0;36m\u001b[0m\n\u001b[0;31m    beatles.\u001b[0m\n\u001b[0m            ^\u001b[0m\n\u001b[0;31mSyntaxError\u001b[0m\u001b[0;31m:\u001b[0m invalid syntax\n"
     ]
    }
   ],
   "source": [
    "beatles."
   ]
  },
  {
   "cell_type": "code",
   "execution_count": 26,
   "id": "84558bb1",
   "metadata": {},
   "outputs": [
    {
     "data": {
      "text/plain": [
       "'first_name'"
      ]
     },
     "execution_count": 26,
     "metadata": {},
     "output_type": "execute_result"
    }
   ],
   "source": [
    "#header\n",
    "list(beatle.keys())[0]"
   ]
  },
  {
   "cell_type": "code",
   "execution_count": 27,
   "id": "13f388e1",
   "metadata": {},
   "outputs": [
    {
     "name": "stdout",
     "output_type": "stream",
     "text": [
      "addresses.csv beatles.csv   biostats.csv  movielist.csv\n"
     ]
    }
   ],
   "source": [
    "!ls data"
   ]
  },
  {
   "cell_type": "code",
   "execution_count": 28,
   "id": "86013e55",
   "metadata": {},
   "outputs": [
    {
     "name": "stdout",
     "output_type": "stream",
     "text": [
      "{'first_name': 'John', 'last_name': 'lennon', 'instrument': 'guitar'}\n",
      "{'first_name': 'Ringo', 'last_name': 'Starr', 'instrument': 'drums'}\n",
      "{'first_name': 'Livia', 'last_name': 'Ellen', 'instrument': 'guitar'}\n"
     ]
    }
   ],
   "source": [
    "import csv\n",
    "\n",
    "with open('data/beatles.csv', 'w') as csvfile:\n",
    "    writer = csv.DictWriter(csvfile, fieldnames=beatles[0].keys())\n",
    "    writer.writeheader()\n",
    "    for beatle in beatles:\n",
    "        print(beatle)\n",
    "        writer.writerow(beatle)"
   ]
  },
  {
   "cell_type": "code",
   "execution_count": 29,
   "id": "dbb0fdbf",
   "metadata": {},
   "outputs": [
    {
     "name": "stdout",
     "output_type": "stream",
     "text": [
      "addresses.csv beatles.csv   biostats.csv  movielist.csv\n"
     ]
    }
   ],
   "source": [
    "!ls data"
   ]
  },
  {
   "cell_type": "code",
   "execution_count": 30,
   "id": "fd379595",
   "metadata": {},
   "outputs": [
    {
     "name": "stdout",
     "output_type": "stream",
     "text": [
      "first_name,last_name,instrument\n",
      "John,lennon,guitar\n",
      "Ringo,Starr,drums\n",
      "Livia,Ellen,guitar\n"
     ]
    }
   ],
   "source": [
    "! cat data/beatles.csv"
   ]
  },
  {
   "cell_type": "code",
   "execution_count": 272,
   "id": "f562d552",
   "metadata": {},
   "outputs": [
    {
     "data": {
      "text/plain": [
       "dict_keys(['first_name', 'last_name', 'instrument'])"
      ]
     },
     "execution_count": 272,
     "metadata": {},
     "output_type": "execute_result"
    }
   ],
   "source": [
    "# how to get keys of a dict\n",
    "beatles[0].keys()"
   ]
  },
  {
   "cell_type": "markdown",
   "id": "00a72337",
   "metadata": {},
   "source": [
    "# API Requests"
   ]
  },
  {
   "cell_type": "code",
   "execution_count": 47,
   "id": "13a06958",
   "metadata": {},
   "outputs": [],
   "source": [
    "import requests\n",
    "\n",
    "url = 'https://api.github.com/users/liviaellen'\n",
    "response = requests.get(url)"
   ]
  },
  {
   "cell_type": "code",
   "execution_count": 49,
   "id": "64c6ed78",
   "metadata": {
    "scrolled": true
   },
   "outputs": [
    {
     "data": {
      "text/plain": [
       "<Response [200]>"
      ]
     },
     "execution_count": 49,
     "metadata": {},
     "output_type": "execute_result"
    }
   ],
   "source": [
    "response\n",
    "\n",
    "# 200 is succesful\n",
    "# 40x client error\n",
    "# 50x server error"
   ]
  },
  {
   "cell_type": "code",
   "execution_count": 50,
   "id": "d804433b",
   "metadata": {},
   "outputs": [
    {
     "data": {
      "text/plain": [
       "{'login': 'liviaellen',\n",
       " 'id': 38367623,\n",
       " 'node_id': 'MDQ6VXNlcjM4MzY3NjIz',\n",
       " 'avatar_url': 'https://avatars.githubusercontent.com/u/38367623?v=4',\n",
       " 'gravatar_id': '',\n",
       " 'url': 'https://api.github.com/users/liviaellen',\n",
       " 'html_url': 'https://github.com/liviaellen',\n",
       " 'followers_url': 'https://api.github.com/users/liviaellen/followers',\n",
       " 'following_url': 'https://api.github.com/users/liviaellen/following{/other_user}',\n",
       " 'gists_url': 'https://api.github.com/users/liviaellen/gists{/gist_id}',\n",
       " 'starred_url': 'https://api.github.com/users/liviaellen/starred{/owner}{/repo}',\n",
       " 'subscriptions_url': 'https://api.github.com/users/liviaellen/subscriptions',\n",
       " 'organizations_url': 'https://api.github.com/users/liviaellen/orgs',\n",
       " 'repos_url': 'https://api.github.com/users/liviaellen/repos',\n",
       " 'events_url': 'https://api.github.com/users/liviaellen/events{/privacy}',\n",
       " 'received_events_url': 'https://api.github.com/users/liviaellen/received_events',\n",
       " 'type': 'User',\n",
       " 'site_admin': False,\n",
       " 'name': None,\n",
       " 'company': None,\n",
       " 'blog': '',\n",
       " 'location': None,\n",
       " 'email': None,\n",
       " 'hireable': None,\n",
       " 'bio': None,\n",
       " 'twitter_username': None,\n",
       " 'public_repos': 41,\n",
       " 'public_gists': 0,\n",
       " 'followers': 22,\n",
       " 'following': 8,\n",
       " 'created_at': '2018-04-14T01:46:15Z',\n",
       " 'updated_at': '2023-07-09T07:36:09Z'}"
      ]
     },
     "execution_count": 50,
     "metadata": {},
     "output_type": "execute_result"
    }
   ],
   "source": [
    "result=response.json()\n",
    "result"
   ]
  },
  {
   "cell_type": "code",
   "execution_count": 52,
   "id": "43674a6b",
   "metadata": {},
   "outputs": [
    {
     "data": {
      "text/plain": [
       "'https://avatars.githubusercontent.com/u/38367623?v=4'"
      ]
     },
     "execution_count": 52,
     "metadata": {},
     "output_type": "execute_result"
    }
   ],
   "source": [
    "result['avatar_url']"
   ]
  },
  {
   "cell_type": "code",
   "execution_count": 275,
   "id": "88107814",
   "metadata": {},
   "outputs": [],
   "source": [
    "import requests"
   ]
  },
  {
   "cell_type": "code",
   "execution_count": 31,
   "id": "478cbe4e-18b7-491c-ba6e-a488cade1255",
   "metadata": {},
   "outputs": [
    {
     "data": {
      "text/plain": [
       "'https://openlibrary.org/api/books?bibkeys=ISBN:9780747532699&format=json&jscmd=data'"
      ]
     },
     "execution_count": 31,
     "metadata": {},
     "output_type": "execute_result"
    }
   ],
   "source": [
    "\"https://openlibrary.org/api/books?bibkeys=ISBN:9780747532699&format=json&jscmd=data\""
   ]
  },
  {
   "cell_type": "markdown",
   "id": "7309aac8",
   "metadata": {},
   "source": [
    "Access it in browser\n",
    "\"https://openlibrary.org/api/books?bibkeys=ISBN:9780747532699&format=json&jscmd=data\""
   ]
  },
  {
   "cell_type": "code",
   "execution_count": 33,
   "id": "0c047c4e",
   "metadata": {},
   "outputs": [],
   "source": [
    "# Challenge :\n",
    "# Use openlibrary api to find the title of the book\n",
    "# with ISBN : 9780747532699\n",
    "import requests\n",
    "#option 1\n",
    "isbnkey='9780747532699'\n",
    "url=f'https://openlibrary.org/api/books?bibkeys=ISBN:{isbnkey}&format=json&jscmd=data'\n",
    "response=requests.get(url).json()"
   ]
  },
  {
   "cell_type": "code",
   "execution_count": 34,
   "id": "bf5f79d9",
   "metadata": {},
   "outputs": [
    {
     "data": {
      "text/plain": [
       "{'ISBN:9780747532699': {'url': \"https://openlibrary.org/books/OL25726767M/Harry_Potter_and_the_Philosopher's_Stone\",\n",
       "  'key': '/books/OL25726767M',\n",
       "  'title': \"Harry Potter and the Philosopher's Stone\",\n",
       "  'authors': [{'url': 'https://openlibrary.org/authors/OL23919A/J._K._Rowling',\n",
       "    'name': 'J. K. Rowling'}],\n",
       "  'number_of_pages': 223,\n",
       "  'identifiers': {'paperback_swap': ['0747532699'],\n",
       "   'google': ['yZ1APgAACAAJ'],\n",
       "   'goodreads': ['42622037'],\n",
       "   'isbn_10': ['0747532699'],\n",
       "   'isbn_13': ['9780747532699'],\n",
       "   'oclc': ['41272049'],\n",
       "   'openlibrary': ['OL25726767M']},\n",
       "  'classifications': {'lc_classifications': ['']},\n",
       "  'publishers': [{'name': 'Bloomsbury Publishing'}],\n",
       "  'publish_places': [{'name': 'London, England'}],\n",
       "  'publish_date': '1997',\n",
       "  'subjects': [{'name': 'Ghosts',\n",
       "    'url': 'https://openlibrary.org/subjects/ghosts'},\n",
       "   {'name': 'Monsters', 'url': 'https://openlibrary.org/subjects/monsters'},\n",
       "   {'name': 'Vampires', 'url': 'https://openlibrary.org/subjects/vampires'},\n",
       "   {'name': 'Witches', 'url': 'https://openlibrary.org/subjects/witches'},\n",
       "   {'name': 'Challenges and Overcoming Obstacles',\n",
       "    'url': 'https://openlibrary.org/subjects/challenges_and_overcoming_obstacles'},\n",
       "   {'name': 'Magic and Supernatural',\n",
       "    'url': 'https://openlibrary.org/subjects/magic_and_supernatural'},\n",
       "   {'name': 'Cleverness',\n",
       "    'url': 'https://openlibrary.org/subjects/cleverness'},\n",
       "   {'name': 'School Life',\n",
       "    'url': 'https://openlibrary.org/subjects/school_life'},\n",
       "   {'name': 'school stories',\n",
       "    'url': 'https://openlibrary.org/subjects/school_stories'},\n",
       "   {'name': 'Wizards', 'url': 'https://openlibrary.org/subjects/wizards'},\n",
       "   {'name': 'Magic', 'url': 'https://openlibrary.org/subjects/magic'},\n",
       "   {'name': 'MAGIA', 'url': 'https://openlibrary.org/subjects/magia'},\n",
       "   {'name': 'MAGOS', 'url': 'https://openlibrary.org/subjects/magos'},\n",
       "   {'name': 'Juvenile fiction',\n",
       "    'url': 'https://openlibrary.org/subjects/juvenile_fiction'},\n",
       "   {'name': 'Fiction', 'url': 'https://openlibrary.org/subjects/fiction'},\n",
       "   {'name': 'NOVELAS INGLESAS',\n",
       "    'url': 'https://openlibrary.org/subjects/novelas_inglesas'},\n",
       "   {'name': 'Schools', 'url': 'https://openlibrary.org/subjects/schools'},\n",
       "   {'name': 'orphans', 'url': 'https://openlibrary.org/subjects/orphans'},\n",
       "   {'name': 'fantasy fiction',\n",
       "    'url': 'https://openlibrary.org/subjects/fantasy_fiction'},\n",
       "   {'name': 'England in fiction',\n",
       "    'url': 'https://openlibrary.org/subjects/england_in_fiction'},\n",
       "   {'name': 'Witches in fiction',\n",
       "    'url': 'https://openlibrary.org/subjects/witches_in_fiction'},\n",
       "   {'name': 'Wizards in fiction',\n",
       "    'url': 'https://openlibrary.org/subjects/wizards_in_fiction'},\n",
       "   {'name': 'Alchemy', 'url': 'https://openlibrary.org/subjects/alchemy'},\n",
       "   {'name': 'New York Times bestseller',\n",
       "    'url': 'https://openlibrary.org/subjects/new_york_times_bestseller'},\n",
       "   {'name': 'Juvenile literature',\n",
       "    'url': 'https://openlibrary.org/subjects/juvenile_literature'},\n",
       "   {'name': 'Magic in fiction',\n",
       "    'url': 'https://openlibrary.org/subjects/magic_in_fiction'},\n",
       "   {'name': 'Open Library Staff Picks',\n",
       "    'url': 'https://openlibrary.org/subjects/open_library_staff_picks'},\n",
       "   {'name': 'Juvenile audience',\n",
       "    'url': 'https://openlibrary.org/subjects/juvenile_audience'},\n",
       "   {'name': \"Children's stories\",\n",
       "    'url': \"https://openlibrary.org/subjects/children's_stories\"},\n",
       "   {'name': 'Juvenile works',\n",
       "    'url': 'https://openlibrary.org/subjects/juvenile_works'},\n",
       "   {'name': 'Schools in fiction',\n",
       "    'url': 'https://openlibrary.org/subjects/schools_in_fiction'},\n",
       "   {'name': 'Fantasy', 'url': 'https://openlibrary.org/subjects/fantasy'},\n",
       "   {'name': 'Hogwarts School of Witchcraft and Wizardry (Imaginary place)',\n",
       "    'url': 'https://openlibrary.org/subjects/hogwarts_school_of_witchcraft_and_wizardry_(imaginary_place)'},\n",
       "   {'name': 'Harry Potter (Fictitious character)',\n",
       "    'url': 'https://openlibrary.org/subjects/harry_potter_(fictitious_character)'},\n",
       "   {'name': 'Ficción juvenil',\n",
       "    'url': 'https://openlibrary.org/subjects/ficción_juvenil'},\n",
       "   {'name': 'Escuelas', 'url': 'https://openlibrary.org/subjects/escuelas'},\n",
       "   {'name': 'Hogwarts School of Witchcraft and Wizardry (Imaginary organization)',\n",
       "    'url': 'https://openlibrary.org/subjects/hogwarts_school_of_witchcraft_and_wizardry_(imaginary_organization)'},\n",
       "   {'name': 'Translations from English',\n",
       "    'url': 'https://openlibrary.org/subjects/translations_from_english'},\n",
       "   {'name': 'Chinese fiction',\n",
       "    'url': 'https://openlibrary.org/subjects/chinese_fiction'},\n",
       "   {'name': 'Hermione Granger (Fictitious character)',\n",
       "    'url': 'https://openlibrary.org/subjects/hermione_granger_(fictitious_character)'},\n",
       "   {'name': 'Reading Level-Grade 9',\n",
       "    'url': 'https://openlibrary.org/subjects/reading_level-grade_9'},\n",
       "   {'name': 'Reading Level-Grade 11',\n",
       "    'url': 'https://openlibrary.org/subjects/reading_level-grade_11'},\n",
       "   {'name': 'Reading Level-Grade 10',\n",
       "    'url': 'https://openlibrary.org/subjects/reading_level-grade_10'},\n",
       "   {'name': 'Reading Level-Grade 12',\n",
       "    'url': 'https://openlibrary.org/subjects/reading_level-grade_12'},\n",
       "   {'name': 'Hogwarts school of witchcraft and wizardry (imaginary organization), fiction',\n",
       "    'url': 'https://openlibrary.org/subjects/hogwarts_school_of_witchcraft_and_wizardry_(imaginary_organization),_fiction'},\n",
       "   {'name': \"Children's fiction\",\n",
       "    'url': \"https://openlibrary.org/subjects/children's_fiction\"},\n",
       "   {'name': 'Schools, fiction',\n",
       "    'url': 'https://openlibrary.org/subjects/schools,_fiction'},\n",
       "   {'name': 'England, fiction',\n",
       "    'url': 'https://openlibrary.org/subjects/england,_fiction'},\n",
       "   {'name': 'Potter, harry (fictitious character), fiction',\n",
       "    'url': 'https://openlibrary.org/subjects/potter,_harry_(fictitious_character),_fiction'},\n",
       "   {'name': 'Wizards, fiction',\n",
       "    'url': 'https://openlibrary.org/subjects/wizards,_fiction'},\n",
       "   {'name': 'Magic, fiction',\n",
       "    'url': 'https://openlibrary.org/subjects/magic,_fiction'},\n",
       "   {'name': 'Fiction, fantasy, general',\n",
       "    'url': 'https://openlibrary.org/subjects/fiction,_fantasy,_general'},\n",
       "   {'name': 'Large type books',\n",
       "    'url': 'https://openlibrary.org/subjects/large_type_books'},\n",
       "   {'name': 'Magier', 'url': 'https://openlibrary.org/subjects/magier'},\n",
       "   {'name': 'Fabeltiere',\n",
       "    'url': 'https://openlibrary.org/subjects/fabeltiere'},\n",
       "   {'name': 'Lehrling', 'url': 'https://openlibrary.org/subjects/lehrling'},\n",
       "   {'name': 'Kinderbuch',\n",
       "    'url': 'https://openlibrary.org/subjects/kinderbuch'},\n",
       "   {'name': 'Stein der Weisen',\n",
       "    'url': 'https://openlibrary.org/subjects/stein_der_weisen'},\n",
       "   {'name': 'Ungeheuer', 'url': 'https://openlibrary.org/subjects/ungeheuer'},\n",
       "   {'name': 'Junge', 'url': 'https://openlibrary.org/subjects/junge'},\n",
       "   {'name': 'English language',\n",
       "    'url': 'https://openlibrary.org/subjects/english_language'},\n",
       "   {'name': 'Translating into Welsh',\n",
       "    'url': 'https://openlibrary.org/subjects/translating_into_welsh'},\n",
       "   {'name': 'Modern history to 20th century: c 1700 to c 1900',\n",
       "    'url': 'https://openlibrary.org/subjects/modern_history_to_20th_century:_c_1700_to_c_1900'},\n",
       "   {'name': 'Literary theory',\n",
       "    'url': 'https://openlibrary.org/subjects/literary_theory'},\n",
       "   {'name': 'English literature',\n",
       "    'url': 'https://openlibrary.org/subjects/english_literature'},\n",
       "   {'name': 'Ron Weasley (Fictitious character)',\n",
       "    'url': 'https://openlibrary.org/subjects/ron_weasley_(fictitious_character)'},\n",
       "   {'name': 'Latin language materials',\n",
       "    'url': 'https://openlibrary.org/subjects/latin_language_materials'},\n",
       "   {'name': 'Romans, nouvelles, etc. pour la jeunesse',\n",
       "    'url': 'https://openlibrary.org/subjects/romans,_nouvelles,_etc._pour_la_jeunesse'},\n",
       "   {'name': 'Poudlard, école de sorcellerie (Organisation imaginaire)',\n",
       "    'url': 'https://openlibrary.org/subjects/poudlard,_école_de_sorcellerie_(organisation_imaginaire)'},\n",
       "   {'name': 'Sorciers', 'url': 'https://openlibrary.org/subjects/sorciers'},\n",
       "   {'name': 'Sorcières', 'url': 'https://openlibrary.org/subjects/sorcières'},\n",
       "   {'name': 'Magie', 'url': 'https://openlibrary.org/subjects/magie'},\n",
       "   {'name': 'Internats', 'url': 'https://openlibrary.org/subjects/internats'},\n",
       "   {'name': 'Adventure and adventurers, fiction',\n",
       "    'url': 'https://openlibrary.org/subjects/adventure_and_adventurers,_fiction'},\n",
       "   {'name': 'Action & Adventure',\n",
       "    'url': 'https://openlibrary.org/subjects/action_&_adventure'},\n",
       "   {'name': 'Fantasy & Magic',\n",
       "    'url': 'https://openlibrary.org/subjects/fantasy_&_magic'},\n",
       "   {'name': 'Social Themes',\n",
       "    'url': 'https://openlibrary.org/subjects/social_themes'},\n",
       "   {'name': 'Friendship',\n",
       "    'url': 'https://openlibrary.org/subjects/friendship'},\n",
       "   {'name': 'Harry Potter (Fictional character)',\n",
       "    'url': 'https://openlibrary.org/subjects/harry_potter_(fictional_character)'},\n",
       "   {'name': 'Friendship, fiction',\n",
       "    'url': 'https://openlibrary.org/subjects/friendship,_fiction'},\n",
       "   {'name': 'German language materials',\n",
       "    'url': 'https://openlibrary.org/subjects/german_language_materials'},\n",
       "   {'name': 'Witchcraft, fiction',\n",
       "    'url': 'https://openlibrary.org/subjects/witchcraft,_fiction'},\n",
       "   {'name': 'Wizard', 'url': 'https://openlibrary.org/subjects/wizard'},\n",
       "   {'name': 'NOVELAS FANTÁSTICAS',\n",
       "    'url': 'https://openlibrary.org/subjects/novelas_fantásticas'},\n",
       "   {'name': 'NOVELAS JUVENILES INGLESAS',\n",
       "    'url': 'https://openlibrary.org/subjects/novelas_juveniles_inglesas'},\n",
       "   {'name': 'LITERATURA JUVENIL ESTADOUNIDENSE',\n",
       "    'url': 'https://openlibrary.org/subjects/literatura_juvenil_estadounidense'},\n",
       "   {'name': 'Écoles', 'url': 'https://openlibrary.org/subjects/écoles'},\n",
       "   {'name': 'Hechicería',\n",
       "    'url': 'https://openlibrary.org/subjects/hechicería'},\n",
       "   {'name': 'Novela juvenil',\n",
       "    'url': 'https://openlibrary.org/subjects/novela_juvenil'},\n",
       "   {'name': 'Ingleterra',\n",
       "    'url': 'https://openlibrary.org/subjects/ingleterra'},\n",
       "   {'name': 'Mystery', 'url': 'https://openlibrary.org/subjects/mystery'},\n",
       "   {'name': 'roman', 'url': 'https://openlibrary.org/subjects/roman'},\n",
       "   {'name': 'English Fantasy literature',\n",
       "    'url': 'https://openlibrary.org/subjects/english_fantasy_literature'},\n",
       "   {'name': 'Translations into Marathi',\n",
       "    'url': 'https://openlibrary.org/subjects/translations_into_marathi'},\n",
       "   {'name': 'English fiction',\n",
       "    'url': 'https://openlibrary.org/subjects/english_fiction'},\n",
       "   {'name': 'Translations into Chinese',\n",
       "    'url': 'https://openlibrary.org/subjects/translations_into_chinese'},\n",
       "   {'name': 'Children - harry potter',\n",
       "    'url': 'https://openlibrary.org/subjects/children_-_harry_potter'},\n",
       "   {'name': 'Teen fiction',\n",
       "    'url': 'https://openlibrary.org/subjects/teen_fiction'},\n",
       "   {'name': 'Children - fiction & literature',\n",
       "    'url': 'https://openlibrary.org/subjects/children_-_fiction_&_literature'},\n",
       "   {'name': 'Science fiction & fantasy',\n",
       "    'url': 'https://openlibrary.org/subjects/science_fiction_&_fantasy'},\n",
       "   {'name': 'Fiction - people',\n",
       "    'url': 'https://openlibrary.org/subjects/fiction_-_people'},\n",
       "   {'name': 'Places & cultures',\n",
       "    'url': 'https://openlibrary.org/subjects/places_&_cultures'}],\n",
       "  'subject_places': [{'name': 'England',\n",
       "    'url': 'https://openlibrary.org/subjects/place:england'},\n",
       "   {'name': 'Hogwarts School of Witchcraft and Wizardry',\n",
       "    'url': 'https://openlibrary.org/subjects/place:hogwarts_school_of_witchcraft_and_wizardry'},\n",
       "   {'name': '4 Privet Drive',\n",
       "    'url': 'https://openlibrary.org/subjects/place:4_privet_drive'},\n",
       "   {'name': 'Diagon Alley',\n",
       "    'url': 'https://openlibrary.org/subjects/place:diagon_alley'},\n",
       "   {'name': 'Leaky Cauldron',\n",
       "    'url': 'https://openlibrary.org/subjects/place:leaky_cauldron'},\n",
       "   {'name': 'Gringotts Wizarding Bank',\n",
       "    'url': 'https://openlibrary.org/subjects/place:gringotts_wizarding_bank'},\n",
       "   {'name': 'Forbidden Forest',\n",
       "    'url': 'https://openlibrary.org/subjects/place:forbidden_forest'},\n",
       "   {'name': \"King's Cross Station\",\n",
       "    'url': \"https://openlibrary.org/subjects/place:king's_cross_station\"},\n",
       "   {'name': 'Platform Nine and Three-quarters',\n",
       "    'url': 'https://openlibrary.org/subjects/place:platform_nine_and_three-quarters'}],\n",
       "  'subject_people': [{'name': 'Harry Potter',\n",
       "    'url': 'https://openlibrary.org/subjects/person:harry_potter'},\n",
       "   {'name': 'Ron Weasley',\n",
       "    'url': 'https://openlibrary.org/subjects/person:ron_weasley'},\n",
       "   {'name': 'Hermione Granger',\n",
       "    'url': 'https://openlibrary.org/subjects/person:hermione_granger'},\n",
       "   {'name': 'Neville Longbottom',\n",
       "    'url': 'https://openlibrary.org/subjects/person:neville_longbottom'},\n",
       "   {'name': 'Rubeus Hagrid',\n",
       "    'url': 'https://openlibrary.org/subjects/person:rubeus_hagrid'},\n",
       "   {'name': 'Albus Dumbledore',\n",
       "    'url': 'https://openlibrary.org/subjects/person:albus_dumbledore'},\n",
       "   {'name': 'Minerva McGonagall',\n",
       "    'url': 'https://openlibrary.org/subjects/person:minerva_mcgonagall'},\n",
       "   {'name': 'Nicolas Flamel',\n",
       "    'url': 'https://openlibrary.org/subjects/person:nicolas_flamel'},\n",
       "   {'name': 'Norbert',\n",
       "    'url': 'https://openlibrary.org/subjects/person:norbert'},\n",
       "   {'name': 'Sorting Hat',\n",
       "    'url': 'https://openlibrary.org/subjects/person:sorting_hat'},\n",
       "   {'name': 'Severus Snape',\n",
       "    'url': 'https://openlibrary.org/subjects/person:severus_snape'},\n",
       "   {'name': 'Quirinus Quirrell',\n",
       "    'url': 'https://openlibrary.org/subjects/person:quirinus_quirrell'},\n",
       "   {'name': 'Petunia Dursley',\n",
       "    'url': 'https://openlibrary.org/subjects/person:petunia_dursley'},\n",
       "   {'name': 'Draco Malfoy',\n",
       "    'url': 'https://openlibrary.org/subjects/person:draco_malfoy'},\n",
       "   {'name': 'Argus Filch',\n",
       "    'url': 'https://openlibrary.org/subjects/person:argus_filch'},\n",
       "   {'name': 'Vernon Dursley',\n",
       "    'url': 'https://openlibrary.org/subjects/person:vernon_dursley'},\n",
       "   {'name': 'Dudley Dursley',\n",
       "    'url': 'https://openlibrary.org/subjects/person:dudley_dursley'},\n",
       "   {'name': 'Fred Weasley',\n",
       "    'url': 'https://openlibrary.org/subjects/person:fred_weasley'},\n",
       "   {'name': 'George Weasley',\n",
       "    'url': 'https://openlibrary.org/subjects/person:george_weasley'},\n",
       "   {'name': 'Ginny Weasley',\n",
       "    'url': 'https://openlibrary.org/subjects/person:ginny_weasley'},\n",
       "   {'name': 'Molly Weasley',\n",
       "    'url': 'https://openlibrary.org/subjects/person:molly_weasley'},\n",
       "   {'name': 'Percy Weasley',\n",
       "    'url': 'https://openlibrary.org/subjects/person:percy_weasley'},\n",
       "   {'name': 'Vincent Crabbe',\n",
       "    'url': 'https://openlibrary.org/subjects/person:vincent_crabbe'},\n",
       "   {'name': 'Gregory Goyle',\n",
       "    'url': 'https://openlibrary.org/subjects/person:gregory_goyle'},\n",
       "   {'name': 'Lee Jordan',\n",
       "    'url': 'https://openlibrary.org/subjects/person:lee_jordan'},\n",
       "   {'name': 'Scabbers',\n",
       "    'url': 'https://openlibrary.org/subjects/person:scabbers'},\n",
       "   {'name': 'Hannah Abbott',\n",
       "    'url': 'https://openlibrary.org/subjects/person:hannah_abbott'},\n",
       "   {'name': 'Bloody Baron',\n",
       "    'url': 'https://openlibrary.org/subjects/person:bloody_baron'},\n",
       "   {'name': 'Susan Bones',\n",
       "    'url': 'https://openlibrary.org/subjects/person:susan_bones'},\n",
       "   {'name': 'Terry Boot',\n",
       "    'url': 'https://openlibrary.org/subjects/person:terry_boot'},\n",
       "   {'name': 'Mandy Brocklehurst',\n",
       "    'url': 'https://openlibrary.org/subjects/person:mandy_brocklehurst'},\n",
       "   {'name': 'Lavender Brown',\n",
       "    'url': 'https://openlibrary.org/subjects/person:lavender_brown'},\n",
       "   {'name': 'Millicent Bulstrode',\n",
       "    'url': 'https://openlibrary.org/subjects/person:millicent_bulstrode'},\n",
       "   {'name': 'Nearly Headless Nick',\n",
       "    'url': 'https://openlibrary.org/subjects/person:nearly_headless_nick'},\n",
       "   {'name': 'Fat Friar',\n",
       "    'url': 'https://openlibrary.org/subjects/person:fat_friar'},\n",
       "   {'name': 'Fat Lady',\n",
       "    'url': 'https://openlibrary.org/subjects/person:fat_lady'},\n",
       "   {'name': 'Justin Finch-Fetchley',\n",
       "    'url': 'https://openlibrary.org/subjects/person:justin_finch-fetchley'},\n",
       "   {'name': 'Seamus Finnigan',\n",
       "    'url': 'https://openlibrary.org/subjects/person:seamus_finnigan'},\n",
       "   {'name': 'Morag MacDougal',\n",
       "    'url': 'https://openlibrary.org/subjects/person:morag_macdougal'},\n",
       "   {'name': 'Lily Moon',\n",
       "    'url': 'https://openlibrary.org/subjects/person:lily_moon'},\n",
       "   {'name': 'Pansy Parkinson',\n",
       "    'url': 'https://openlibrary.org/subjects/person:pansy_parkinson'},\n",
       "   {'name': 'Padma Patil',\n",
       "    'url': 'https://openlibrary.org/subjects/person:padma_patil'},\n",
       "   {'name': 'Parvati Patil',\n",
       "    'url': 'https://openlibrary.org/subjects/person:parvati_patil'},\n",
       "   {'name': 'Peeves', 'url': 'https://openlibrary.org/subjects/person:peeves'},\n",
       "   {'name': 'Dean Thomas',\n",
       "    'url': 'https://openlibrary.org/subjects/person:dean_thomas'},\n",
       "   {'name': 'Lisa Turpin',\n",
       "    'url': 'https://openlibrary.org/subjects/person:lisa_turpin'},\n",
       "   {'name': 'Blaise Zabini',\n",
       "    'url': 'https://openlibrary.org/subjects/person:blaise_zabini'}],\n",
       "  'subject_times': [{'name': 'late 1990s',\n",
       "    'url': 'https://openlibrary.org/subjects/time:late_1990s'}],\n",
       "  'excerpts': [{'text': 'Mr. And Mrs. Dursley, of number four, Privet Drive, were proud to say that they were perfectly normal, thank you very much.',\n",
       "    'comment': 'first sentence'}],\n",
       "  'table_of_contents': [{'level': 0,\n",
       "    'label': 'Chapter 1',\n",
       "    'title': 'The boy who lived',\n",
       "    'pagenum': ''},\n",
       "   {'level': 0,\n",
       "    'label': 'Chapter 2',\n",
       "    'title': 'The vanishing glass',\n",
       "    'pagenum': ''},\n",
       "   {'level': 0,\n",
       "    'label': 'Chapter 3',\n",
       "    'title': 'The letters from no one',\n",
       "    'pagenum': ''},\n",
       "   {'level': 0,\n",
       "    'label': 'Chapter 4',\n",
       "    'title': 'The keeper of the keys',\n",
       "    'pagenum': ''},\n",
       "   {'level': 0, 'label': 'Chapter 5', 'title': 'Diagon Alley', 'pagenum': ''},\n",
       "   {'level': 0,\n",
       "    'label': 'Chapter 6',\n",
       "    'title': 'The journey from Platform Nine and Three-quarters',\n",
       "    'pagenum': ''},\n",
       "   {'level': 0,\n",
       "    'label': 'Chapter 7',\n",
       "    'title': 'The Sorting Hat',\n",
       "    'pagenum': ''},\n",
       "   {'level': 0,\n",
       "    'label': 'Chapter 8',\n",
       "    'title': 'The potions master',\n",
       "    'pagenum': ''},\n",
       "   {'level': 0,\n",
       "    'label': 'Chapter 9',\n",
       "    'title': 'The midnight duel',\n",
       "    'pagenum': ''},\n",
       "   {'level': 0, 'label': 'Chapter 10', 'title': 'Halloween', 'pagenum': ''},\n",
       "   {'level': 0, 'label': 'Chapter 11', 'title': 'Quidditch', 'pagenum': ''},\n",
       "   {'level': 0,\n",
       "    'label': 'Chapter 12',\n",
       "    'title': 'The mirror of Erised',\n",
       "    'pagenum': ''},\n",
       "   {'level': 0,\n",
       "    'label': 'Chapter 13',\n",
       "    'title': 'Nicolas Flamel',\n",
       "    'pagenum': ''},\n",
       "   {'level': 0,\n",
       "    'label': 'Chapter 14',\n",
       "    'title': 'Nobert the Norwegian ridgeback',\n",
       "    'pagenum': ''},\n",
       "   {'level': 0,\n",
       "    'label': 'Chapter 15',\n",
       "    'title': 'The Forbidden Forest',\n",
       "    'pagenum': ''},\n",
       "   {'level': 0,\n",
       "    'label': 'Chapter 16',\n",
       "    'title': 'Through the trapdoor',\n",
       "    'pagenum': ''},\n",
       "   {'level': 0,\n",
       "    'label': 'Chapter 17',\n",
       "    'title': 'The man with two faces',\n",
       "    'pagenum': ''}],\n",
       "  'links': [{'title': \"Harry Potter and the Philosopher's Stone - J.K. Rowling\",\n",
       "    'url': 'https://www.jkrowling.com/book/harry-potter-philosophers-stone/'},\n",
       "   {'title': \"Harry Potter and the Philosopher's Stone - Wikipedia\",\n",
       "    'url': 'https://en.wikipedia.org/wiki/Harry_Potter_and_the_Philosopher%27s_Stone'},\n",
       "   {'title': \"Harry Potter and the Philosopher's Stone by J.K. Rowling – review (theguardian.com)\",\n",
       "    'url': 'https://www.theguardian.com/childrens-books-site/2015/jul/29/harry-potter-and-the-philosophers-stone-j-k-rowling-review'},\n",
       "   {'title': \"Harry Potter and the Philosopher's Stone by J.K. Rowling - review (theguardian.com)\",\n",
       "    'url': 'https://www.theguardian.com/childrens-books-site/2015/mar/01/review-j-k-rowling-harry-potter-philosophers-stone'}],\n",
       "  'cover': {'small': 'https://covers.openlibrary.org/b/id/7355968-S.jpg',\n",
       "   'medium': 'https://covers.openlibrary.org/b/id/7355968-M.jpg',\n",
       "   'large': 'https://covers.openlibrary.org/b/id/7355968-L.jpg'}}}"
      ]
     },
     "execution_count": 34,
     "metadata": {},
     "output_type": "execute_result"
    }
   ],
   "source": [
    "response"
   ]
  },
  {
   "cell_type": "code",
   "execution_count": 39,
   "id": "c6208d81-393c-4409-b7fe-ea350f241082",
   "metadata": {},
   "outputs": [
    {
     "data": {
      "text/plain": [
       "dict"
      ]
     },
     "execution_count": 39,
     "metadata": {},
     "output_type": "execute_result"
    }
   ],
   "source": [
    "type(response)"
   ]
  },
  {
   "cell_type": "code",
   "execution_count": 40,
   "id": "73b8bc8d-61fa-493b-89d2-c7b9fe5704b1",
   "metadata": {},
   "outputs": [
    {
     "data": {
      "text/plain": [
       "dict_keys(['ISBN:9780747532699'])"
      ]
     },
     "execution_count": 40,
     "metadata": {},
     "output_type": "execute_result"
    }
   ],
   "source": [
    "response.keys()"
   ]
  },
  {
   "cell_type": "code",
   "execution_count": null,
   "id": "b9188176-58ad-4391-ad9e-525c039ca990",
   "metadata": {},
   "outputs": [],
   "source": [
    "# len(data)"
   ]
  },
  {
   "cell_type": "markdown",
   "id": "21eddb22-0dbc-4d89-b100-f3030478a46d",
   "metadata": {},
   "source": [
    "bibkeys=ISBN:9780747532699&format=json&jscmd=data"
   ]
  },
  {
   "cell_type": "code",
   "execution_count": 38,
   "id": "21f8266c",
   "metadata": {},
   "outputs": [
    {
     "data": {
      "text/plain": [
       "{'ISBN:9780747532699': {'url': \"https://openlibrary.org/books/OL25726767M/Harry_Potter_and_the_Philosopher's_Stone\",\n",
       "  'key': '/books/OL25726767M',\n",
       "  'title': \"Harry Potter and the Philosopher's Stone\",\n",
       "  'authors': [{'url': 'https://openlibrary.org/authors/OL23919A/J._K._Rowling',\n",
       "    'name': 'J. K. Rowling'}],\n",
       "  'number_of_pages': 223,\n",
       "  'identifiers': {'paperback_swap': ['0747532699'],\n",
       "   'google': ['yZ1APgAACAAJ'],\n",
       "   'goodreads': ['42622037'],\n",
       "   'isbn_10': ['0747532699'],\n",
       "   'isbn_13': ['9780747532699'],\n",
       "   'oclc': ['41272049'],\n",
       "   'openlibrary': ['OL25726767M']},\n",
       "  'classifications': {'lc_classifications': ['']},\n",
       "  'publishers': [{'name': 'Bloomsbury Publishing'}],\n",
       "  'publish_places': [{'name': 'London, England'}],\n",
       "  'publish_date': '1997',\n",
       "  'subjects': [{'name': 'Ghosts',\n",
       "    'url': 'https://openlibrary.org/subjects/ghosts'},\n",
       "   {'name': 'Monsters', 'url': 'https://openlibrary.org/subjects/monsters'},\n",
       "   {'name': 'Vampires', 'url': 'https://openlibrary.org/subjects/vampires'},\n",
       "   {'name': 'Witches', 'url': 'https://openlibrary.org/subjects/witches'},\n",
       "   {'name': 'Challenges and Overcoming Obstacles',\n",
       "    'url': 'https://openlibrary.org/subjects/challenges_and_overcoming_obstacles'},\n",
       "   {'name': 'Magic and Supernatural',\n",
       "    'url': 'https://openlibrary.org/subjects/magic_and_supernatural'},\n",
       "   {'name': 'Cleverness',\n",
       "    'url': 'https://openlibrary.org/subjects/cleverness'},\n",
       "   {'name': 'School Life',\n",
       "    'url': 'https://openlibrary.org/subjects/school_life'},\n",
       "   {'name': 'school stories',\n",
       "    'url': 'https://openlibrary.org/subjects/school_stories'},\n",
       "   {'name': 'Wizards', 'url': 'https://openlibrary.org/subjects/wizards'},\n",
       "   {'name': 'Magic', 'url': 'https://openlibrary.org/subjects/magic'},\n",
       "   {'name': 'MAGIA', 'url': 'https://openlibrary.org/subjects/magia'},\n",
       "   {'name': 'MAGOS', 'url': 'https://openlibrary.org/subjects/magos'},\n",
       "   {'name': 'Juvenile fiction',\n",
       "    'url': 'https://openlibrary.org/subjects/juvenile_fiction'},\n",
       "   {'name': 'Fiction', 'url': 'https://openlibrary.org/subjects/fiction'},\n",
       "   {'name': 'NOVELAS INGLESAS',\n",
       "    'url': 'https://openlibrary.org/subjects/novelas_inglesas'},\n",
       "   {'name': 'Schools', 'url': 'https://openlibrary.org/subjects/schools'},\n",
       "   {'name': 'orphans', 'url': 'https://openlibrary.org/subjects/orphans'},\n",
       "   {'name': 'fantasy fiction',\n",
       "    'url': 'https://openlibrary.org/subjects/fantasy_fiction'},\n",
       "   {'name': 'England in fiction',\n",
       "    'url': 'https://openlibrary.org/subjects/england_in_fiction'},\n",
       "   {'name': 'Witches in fiction',\n",
       "    'url': 'https://openlibrary.org/subjects/witches_in_fiction'},\n",
       "   {'name': 'Wizards in fiction',\n",
       "    'url': 'https://openlibrary.org/subjects/wizards_in_fiction'},\n",
       "   {'name': 'Alchemy', 'url': 'https://openlibrary.org/subjects/alchemy'},\n",
       "   {'name': 'New York Times bestseller',\n",
       "    'url': 'https://openlibrary.org/subjects/new_york_times_bestseller'},\n",
       "   {'name': 'Juvenile literature',\n",
       "    'url': 'https://openlibrary.org/subjects/juvenile_literature'},\n",
       "   {'name': 'Magic in fiction',\n",
       "    'url': 'https://openlibrary.org/subjects/magic_in_fiction'},\n",
       "   {'name': 'Open Library Staff Picks',\n",
       "    'url': 'https://openlibrary.org/subjects/open_library_staff_picks'},\n",
       "   {'name': 'Juvenile audience',\n",
       "    'url': 'https://openlibrary.org/subjects/juvenile_audience'},\n",
       "   {'name': \"Children's stories\",\n",
       "    'url': \"https://openlibrary.org/subjects/children's_stories\"},\n",
       "   {'name': 'Juvenile works',\n",
       "    'url': 'https://openlibrary.org/subjects/juvenile_works'},\n",
       "   {'name': 'Schools in fiction',\n",
       "    'url': 'https://openlibrary.org/subjects/schools_in_fiction'},\n",
       "   {'name': 'Fantasy', 'url': 'https://openlibrary.org/subjects/fantasy'},\n",
       "   {'name': 'Hogwarts School of Witchcraft and Wizardry (Imaginary place)',\n",
       "    'url': 'https://openlibrary.org/subjects/hogwarts_school_of_witchcraft_and_wizardry_(imaginary_place)'},\n",
       "   {'name': 'Harry Potter (Fictitious character)',\n",
       "    'url': 'https://openlibrary.org/subjects/harry_potter_(fictitious_character)'},\n",
       "   {'name': 'Ficción juvenil',\n",
       "    'url': 'https://openlibrary.org/subjects/ficción_juvenil'},\n",
       "   {'name': 'Escuelas', 'url': 'https://openlibrary.org/subjects/escuelas'},\n",
       "   {'name': 'Hogwarts School of Witchcraft and Wizardry (Imaginary organization)',\n",
       "    'url': 'https://openlibrary.org/subjects/hogwarts_school_of_witchcraft_and_wizardry_(imaginary_organization)'},\n",
       "   {'name': 'Translations from English',\n",
       "    'url': 'https://openlibrary.org/subjects/translations_from_english'},\n",
       "   {'name': 'Chinese fiction',\n",
       "    'url': 'https://openlibrary.org/subjects/chinese_fiction'},\n",
       "   {'name': 'Hermione Granger (Fictitious character)',\n",
       "    'url': 'https://openlibrary.org/subjects/hermione_granger_(fictitious_character)'},\n",
       "   {'name': 'Reading Level-Grade 9',\n",
       "    'url': 'https://openlibrary.org/subjects/reading_level-grade_9'},\n",
       "   {'name': 'Reading Level-Grade 11',\n",
       "    'url': 'https://openlibrary.org/subjects/reading_level-grade_11'},\n",
       "   {'name': 'Reading Level-Grade 10',\n",
       "    'url': 'https://openlibrary.org/subjects/reading_level-grade_10'},\n",
       "   {'name': 'Reading Level-Grade 12',\n",
       "    'url': 'https://openlibrary.org/subjects/reading_level-grade_12'},\n",
       "   {'name': 'Hogwarts school of witchcraft and wizardry (imaginary organization), fiction',\n",
       "    'url': 'https://openlibrary.org/subjects/hogwarts_school_of_witchcraft_and_wizardry_(imaginary_organization),_fiction'},\n",
       "   {'name': \"Children's fiction\",\n",
       "    'url': \"https://openlibrary.org/subjects/children's_fiction\"},\n",
       "   {'name': 'Schools, fiction',\n",
       "    'url': 'https://openlibrary.org/subjects/schools,_fiction'},\n",
       "   {'name': 'England, fiction',\n",
       "    'url': 'https://openlibrary.org/subjects/england,_fiction'},\n",
       "   {'name': 'Potter, harry (fictitious character), fiction',\n",
       "    'url': 'https://openlibrary.org/subjects/potter,_harry_(fictitious_character),_fiction'},\n",
       "   {'name': 'Wizards, fiction',\n",
       "    'url': 'https://openlibrary.org/subjects/wizards,_fiction'},\n",
       "   {'name': 'Magic, fiction',\n",
       "    'url': 'https://openlibrary.org/subjects/magic,_fiction'},\n",
       "   {'name': 'Fiction, fantasy, general',\n",
       "    'url': 'https://openlibrary.org/subjects/fiction,_fantasy,_general'},\n",
       "   {'name': 'Large type books',\n",
       "    'url': 'https://openlibrary.org/subjects/large_type_books'},\n",
       "   {'name': 'Magier', 'url': 'https://openlibrary.org/subjects/magier'},\n",
       "   {'name': 'Fabeltiere',\n",
       "    'url': 'https://openlibrary.org/subjects/fabeltiere'},\n",
       "   {'name': 'Lehrling', 'url': 'https://openlibrary.org/subjects/lehrling'},\n",
       "   {'name': 'Kinderbuch',\n",
       "    'url': 'https://openlibrary.org/subjects/kinderbuch'},\n",
       "   {'name': 'Stein der Weisen',\n",
       "    'url': 'https://openlibrary.org/subjects/stein_der_weisen'},\n",
       "   {'name': 'Ungeheuer', 'url': 'https://openlibrary.org/subjects/ungeheuer'},\n",
       "   {'name': 'Junge', 'url': 'https://openlibrary.org/subjects/junge'},\n",
       "   {'name': 'English language',\n",
       "    'url': 'https://openlibrary.org/subjects/english_language'},\n",
       "   {'name': 'Translating into Welsh',\n",
       "    'url': 'https://openlibrary.org/subjects/translating_into_welsh'},\n",
       "   {'name': 'Modern history to 20th century: c 1700 to c 1900',\n",
       "    'url': 'https://openlibrary.org/subjects/modern_history_to_20th_century:_c_1700_to_c_1900'},\n",
       "   {'name': 'Literary theory',\n",
       "    'url': 'https://openlibrary.org/subjects/literary_theory'},\n",
       "   {'name': 'English literature',\n",
       "    'url': 'https://openlibrary.org/subjects/english_literature'},\n",
       "   {'name': 'Ron Weasley (Fictitious character)',\n",
       "    'url': 'https://openlibrary.org/subjects/ron_weasley_(fictitious_character)'},\n",
       "   {'name': 'Latin language materials',\n",
       "    'url': 'https://openlibrary.org/subjects/latin_language_materials'},\n",
       "   {'name': 'Romans, nouvelles, etc. pour la jeunesse',\n",
       "    'url': 'https://openlibrary.org/subjects/romans,_nouvelles,_etc._pour_la_jeunesse'},\n",
       "   {'name': 'Poudlard, école de sorcellerie (Organisation imaginaire)',\n",
       "    'url': 'https://openlibrary.org/subjects/poudlard,_école_de_sorcellerie_(organisation_imaginaire)'},\n",
       "   {'name': 'Sorciers', 'url': 'https://openlibrary.org/subjects/sorciers'},\n",
       "   {'name': 'Sorcières', 'url': 'https://openlibrary.org/subjects/sorcières'},\n",
       "   {'name': 'Magie', 'url': 'https://openlibrary.org/subjects/magie'},\n",
       "   {'name': 'Internats', 'url': 'https://openlibrary.org/subjects/internats'},\n",
       "   {'name': 'Adventure and adventurers, fiction',\n",
       "    'url': 'https://openlibrary.org/subjects/adventure_and_adventurers,_fiction'},\n",
       "   {'name': 'Action & Adventure',\n",
       "    'url': 'https://openlibrary.org/subjects/action_&_adventure'},\n",
       "   {'name': 'Fantasy & Magic',\n",
       "    'url': 'https://openlibrary.org/subjects/fantasy_&_magic'},\n",
       "   {'name': 'Social Themes',\n",
       "    'url': 'https://openlibrary.org/subjects/social_themes'},\n",
       "   {'name': 'Friendship',\n",
       "    'url': 'https://openlibrary.org/subjects/friendship'},\n",
       "   {'name': 'Harry Potter (Fictional character)',\n",
       "    'url': 'https://openlibrary.org/subjects/harry_potter_(fictional_character)'},\n",
       "   {'name': 'Friendship, fiction',\n",
       "    'url': 'https://openlibrary.org/subjects/friendship,_fiction'},\n",
       "   {'name': 'German language materials',\n",
       "    'url': 'https://openlibrary.org/subjects/german_language_materials'},\n",
       "   {'name': 'Witchcraft, fiction',\n",
       "    'url': 'https://openlibrary.org/subjects/witchcraft,_fiction'},\n",
       "   {'name': 'Wizard', 'url': 'https://openlibrary.org/subjects/wizard'},\n",
       "   {'name': 'NOVELAS FANTÁSTICAS',\n",
       "    'url': 'https://openlibrary.org/subjects/novelas_fantásticas'},\n",
       "   {'name': 'NOVELAS JUVENILES INGLESAS',\n",
       "    'url': 'https://openlibrary.org/subjects/novelas_juveniles_inglesas'},\n",
       "   {'name': 'LITERATURA JUVENIL ESTADOUNIDENSE',\n",
       "    'url': 'https://openlibrary.org/subjects/literatura_juvenil_estadounidense'},\n",
       "   {'name': 'Écoles', 'url': 'https://openlibrary.org/subjects/écoles'},\n",
       "   {'name': 'Hechicería',\n",
       "    'url': 'https://openlibrary.org/subjects/hechicería'},\n",
       "   {'name': 'Novela juvenil',\n",
       "    'url': 'https://openlibrary.org/subjects/novela_juvenil'},\n",
       "   {'name': 'Ingleterra',\n",
       "    'url': 'https://openlibrary.org/subjects/ingleterra'},\n",
       "   {'name': 'Mystery', 'url': 'https://openlibrary.org/subjects/mystery'},\n",
       "   {'name': 'roman', 'url': 'https://openlibrary.org/subjects/roman'},\n",
       "   {'name': 'English Fantasy literature',\n",
       "    'url': 'https://openlibrary.org/subjects/english_fantasy_literature'},\n",
       "   {'name': 'Translations into Marathi',\n",
       "    'url': 'https://openlibrary.org/subjects/translations_into_marathi'},\n",
       "   {'name': 'English fiction',\n",
       "    'url': 'https://openlibrary.org/subjects/english_fiction'},\n",
       "   {'name': 'Translations into Chinese',\n",
       "    'url': 'https://openlibrary.org/subjects/translations_into_chinese'},\n",
       "   {'name': 'Children - harry potter',\n",
       "    'url': 'https://openlibrary.org/subjects/children_-_harry_potter'},\n",
       "   {'name': 'Teen fiction',\n",
       "    'url': 'https://openlibrary.org/subjects/teen_fiction'},\n",
       "   {'name': 'Children - fiction & literature',\n",
       "    'url': 'https://openlibrary.org/subjects/children_-_fiction_&_literature'},\n",
       "   {'name': 'Science fiction & fantasy',\n",
       "    'url': 'https://openlibrary.org/subjects/science_fiction_&_fantasy'},\n",
       "   {'name': 'Fiction - people',\n",
       "    'url': 'https://openlibrary.org/subjects/fiction_-_people'},\n",
       "   {'name': 'Places & cultures',\n",
       "    'url': 'https://openlibrary.org/subjects/places_&_cultures'}],\n",
       "  'subject_places': [{'name': 'England',\n",
       "    'url': 'https://openlibrary.org/subjects/place:england'},\n",
       "   {'name': 'Hogwarts School of Witchcraft and Wizardry',\n",
       "    'url': 'https://openlibrary.org/subjects/place:hogwarts_school_of_witchcraft_and_wizardry'},\n",
       "   {'name': '4 Privet Drive',\n",
       "    'url': 'https://openlibrary.org/subjects/place:4_privet_drive'},\n",
       "   {'name': 'Diagon Alley',\n",
       "    'url': 'https://openlibrary.org/subjects/place:diagon_alley'},\n",
       "   {'name': 'Leaky Cauldron',\n",
       "    'url': 'https://openlibrary.org/subjects/place:leaky_cauldron'},\n",
       "   {'name': 'Gringotts Wizarding Bank',\n",
       "    'url': 'https://openlibrary.org/subjects/place:gringotts_wizarding_bank'},\n",
       "   {'name': 'Forbidden Forest',\n",
       "    'url': 'https://openlibrary.org/subjects/place:forbidden_forest'},\n",
       "   {'name': \"King's Cross Station\",\n",
       "    'url': \"https://openlibrary.org/subjects/place:king's_cross_station\"},\n",
       "   {'name': 'Platform Nine and Three-quarters',\n",
       "    'url': 'https://openlibrary.org/subjects/place:platform_nine_and_three-quarters'}],\n",
       "  'subject_people': [{'name': 'Harry Potter',\n",
       "    'url': 'https://openlibrary.org/subjects/person:harry_potter'},\n",
       "   {'name': 'Ron Weasley',\n",
       "    'url': 'https://openlibrary.org/subjects/person:ron_weasley'},\n",
       "   {'name': 'Hermione Granger',\n",
       "    'url': 'https://openlibrary.org/subjects/person:hermione_granger'},\n",
       "   {'name': 'Neville Longbottom',\n",
       "    'url': 'https://openlibrary.org/subjects/person:neville_longbottom'},\n",
       "   {'name': 'Rubeus Hagrid',\n",
       "    'url': 'https://openlibrary.org/subjects/person:rubeus_hagrid'},\n",
       "   {'name': 'Albus Dumbledore',\n",
       "    'url': 'https://openlibrary.org/subjects/person:albus_dumbledore'},\n",
       "   {'name': 'Minerva McGonagall',\n",
       "    'url': 'https://openlibrary.org/subjects/person:minerva_mcgonagall'},\n",
       "   {'name': 'Nicolas Flamel',\n",
       "    'url': 'https://openlibrary.org/subjects/person:nicolas_flamel'},\n",
       "   {'name': 'Norbert',\n",
       "    'url': 'https://openlibrary.org/subjects/person:norbert'},\n",
       "   {'name': 'Sorting Hat',\n",
       "    'url': 'https://openlibrary.org/subjects/person:sorting_hat'},\n",
       "   {'name': 'Severus Snape',\n",
       "    'url': 'https://openlibrary.org/subjects/person:severus_snape'},\n",
       "   {'name': 'Quirinus Quirrell',\n",
       "    'url': 'https://openlibrary.org/subjects/person:quirinus_quirrell'},\n",
       "   {'name': 'Petunia Dursley',\n",
       "    'url': 'https://openlibrary.org/subjects/person:petunia_dursley'},\n",
       "   {'name': 'Draco Malfoy',\n",
       "    'url': 'https://openlibrary.org/subjects/person:draco_malfoy'},\n",
       "   {'name': 'Argus Filch',\n",
       "    'url': 'https://openlibrary.org/subjects/person:argus_filch'},\n",
       "   {'name': 'Vernon Dursley',\n",
       "    'url': 'https://openlibrary.org/subjects/person:vernon_dursley'},\n",
       "   {'name': 'Dudley Dursley',\n",
       "    'url': 'https://openlibrary.org/subjects/person:dudley_dursley'},\n",
       "   {'name': 'Fred Weasley',\n",
       "    'url': 'https://openlibrary.org/subjects/person:fred_weasley'},\n",
       "   {'name': 'George Weasley',\n",
       "    'url': 'https://openlibrary.org/subjects/person:george_weasley'},\n",
       "   {'name': 'Ginny Weasley',\n",
       "    'url': 'https://openlibrary.org/subjects/person:ginny_weasley'},\n",
       "   {'name': 'Molly Weasley',\n",
       "    'url': 'https://openlibrary.org/subjects/person:molly_weasley'},\n",
       "   {'name': 'Percy Weasley',\n",
       "    'url': 'https://openlibrary.org/subjects/person:percy_weasley'},\n",
       "   {'name': 'Vincent Crabbe',\n",
       "    'url': 'https://openlibrary.org/subjects/person:vincent_crabbe'},\n",
       "   {'name': 'Gregory Goyle',\n",
       "    'url': 'https://openlibrary.org/subjects/person:gregory_goyle'},\n",
       "   {'name': 'Lee Jordan',\n",
       "    'url': 'https://openlibrary.org/subjects/person:lee_jordan'},\n",
       "   {'name': 'Scabbers',\n",
       "    'url': 'https://openlibrary.org/subjects/person:scabbers'},\n",
       "   {'name': 'Hannah Abbott',\n",
       "    'url': 'https://openlibrary.org/subjects/person:hannah_abbott'},\n",
       "   {'name': 'Bloody Baron',\n",
       "    'url': 'https://openlibrary.org/subjects/person:bloody_baron'},\n",
       "   {'name': 'Susan Bones',\n",
       "    'url': 'https://openlibrary.org/subjects/person:susan_bones'},\n",
       "   {'name': 'Terry Boot',\n",
       "    'url': 'https://openlibrary.org/subjects/person:terry_boot'},\n",
       "   {'name': 'Mandy Brocklehurst',\n",
       "    'url': 'https://openlibrary.org/subjects/person:mandy_brocklehurst'},\n",
       "   {'name': 'Lavender Brown',\n",
       "    'url': 'https://openlibrary.org/subjects/person:lavender_brown'},\n",
       "   {'name': 'Millicent Bulstrode',\n",
       "    'url': 'https://openlibrary.org/subjects/person:millicent_bulstrode'},\n",
       "   {'name': 'Nearly Headless Nick',\n",
       "    'url': 'https://openlibrary.org/subjects/person:nearly_headless_nick'},\n",
       "   {'name': 'Fat Friar',\n",
       "    'url': 'https://openlibrary.org/subjects/person:fat_friar'},\n",
       "   {'name': 'Fat Lady',\n",
       "    'url': 'https://openlibrary.org/subjects/person:fat_lady'},\n",
       "   {'name': 'Justin Finch-Fetchley',\n",
       "    'url': 'https://openlibrary.org/subjects/person:justin_finch-fetchley'},\n",
       "   {'name': 'Seamus Finnigan',\n",
       "    'url': 'https://openlibrary.org/subjects/person:seamus_finnigan'},\n",
       "   {'name': 'Morag MacDougal',\n",
       "    'url': 'https://openlibrary.org/subjects/person:morag_macdougal'},\n",
       "   {'name': 'Lily Moon',\n",
       "    'url': 'https://openlibrary.org/subjects/person:lily_moon'},\n",
       "   {'name': 'Pansy Parkinson',\n",
       "    'url': 'https://openlibrary.org/subjects/person:pansy_parkinson'},\n",
       "   {'name': 'Padma Patil',\n",
       "    'url': 'https://openlibrary.org/subjects/person:padma_patil'},\n",
       "   {'name': 'Parvati Patil',\n",
       "    'url': 'https://openlibrary.org/subjects/person:parvati_patil'},\n",
       "   {'name': 'Peeves', 'url': 'https://openlibrary.org/subjects/person:peeves'},\n",
       "   {'name': 'Dean Thomas',\n",
       "    'url': 'https://openlibrary.org/subjects/person:dean_thomas'},\n",
       "   {'name': 'Lisa Turpin',\n",
       "    'url': 'https://openlibrary.org/subjects/person:lisa_turpin'},\n",
       "   {'name': 'Blaise Zabini',\n",
       "    'url': 'https://openlibrary.org/subjects/person:blaise_zabini'}],\n",
       "  'subject_times': [{'name': 'late 1990s',\n",
       "    'url': 'https://openlibrary.org/subjects/time:late_1990s'}],\n",
       "  'excerpts': [{'text': 'Mr. And Mrs. Dursley, of number four, Privet Drive, were proud to say that they were perfectly normal, thank you very much.',\n",
       "    'comment': 'first sentence'}],\n",
       "  'table_of_contents': [{'level': 0,\n",
       "    'label': 'Chapter 1',\n",
       "    'title': 'The boy who lived',\n",
       "    'pagenum': ''},\n",
       "   {'level': 0,\n",
       "    'label': 'Chapter 2',\n",
       "    'title': 'The vanishing glass',\n",
       "    'pagenum': ''},\n",
       "   {'level': 0,\n",
       "    'label': 'Chapter 3',\n",
       "    'title': 'The letters from no one',\n",
       "    'pagenum': ''},\n",
       "   {'level': 0,\n",
       "    'label': 'Chapter 4',\n",
       "    'title': 'The keeper of the keys',\n",
       "    'pagenum': ''},\n",
       "   {'level': 0, 'label': 'Chapter 5', 'title': 'Diagon Alley', 'pagenum': ''},\n",
       "   {'level': 0,\n",
       "    'label': 'Chapter 6',\n",
       "    'title': 'The journey from Platform Nine and Three-quarters',\n",
       "    'pagenum': ''},\n",
       "   {'level': 0,\n",
       "    'label': 'Chapter 7',\n",
       "    'title': 'The Sorting Hat',\n",
       "    'pagenum': ''},\n",
       "   {'level': 0,\n",
       "    'label': 'Chapter 8',\n",
       "    'title': 'The potions master',\n",
       "    'pagenum': ''},\n",
       "   {'level': 0,\n",
       "    'label': 'Chapter 9',\n",
       "    'title': 'The midnight duel',\n",
       "    'pagenum': ''},\n",
       "   {'level': 0, 'label': 'Chapter 10', 'title': 'Halloween', 'pagenum': ''},\n",
       "   {'level': 0, 'label': 'Chapter 11', 'title': 'Quidditch', 'pagenum': ''},\n",
       "   {'level': 0,\n",
       "    'label': 'Chapter 12',\n",
       "    'title': 'The mirror of Erised',\n",
       "    'pagenum': ''},\n",
       "   {'level': 0,\n",
       "    'label': 'Chapter 13',\n",
       "    'title': 'Nicolas Flamel',\n",
       "    'pagenum': ''},\n",
       "   {'level': 0,\n",
       "    'label': 'Chapter 14',\n",
       "    'title': 'Nobert the Norwegian ridgeback',\n",
       "    'pagenum': ''},\n",
       "   {'level': 0,\n",
       "    'label': 'Chapter 15',\n",
       "    'title': 'The Forbidden Forest',\n",
       "    'pagenum': ''},\n",
       "   {'level': 0,\n",
       "    'label': 'Chapter 16',\n",
       "    'title': 'Through the trapdoor',\n",
       "    'pagenum': ''},\n",
       "   {'level': 0,\n",
       "    'label': 'Chapter 17',\n",
       "    'title': 'The man with two faces',\n",
       "    'pagenum': ''}],\n",
       "  'links': [{'title': \"Harry Potter and the Philosopher's Stone - J.K. Rowling\",\n",
       "    'url': 'https://www.jkrowling.com/book/harry-potter-philosophers-stone/'},\n",
       "   {'title': \"Harry Potter and the Philosopher's Stone - Wikipedia\",\n",
       "    'url': 'https://en.wikipedia.org/wiki/Harry_Potter_and_the_Philosopher%27s_Stone'},\n",
       "   {'title': \"Harry Potter and the Philosopher's Stone by J.K. Rowling – review (theguardian.com)\",\n",
       "    'url': 'https://www.theguardian.com/childrens-books-site/2015/jul/29/harry-potter-and-the-philosophers-stone-j-k-rowling-review'},\n",
       "   {'title': \"Harry Potter and the Philosopher's Stone by J.K. Rowling - review (theguardian.com)\",\n",
       "    'url': 'https://www.theguardian.com/childrens-books-site/2015/mar/01/review-j-k-rowling-harry-potter-philosophers-stone'}],\n",
       "  'cover': {'small': 'https://covers.openlibrary.org/b/id/7355968-S.jpg',\n",
       "   'medium': 'https://covers.openlibrary.org/b/id/7355968-M.jpg',\n",
       "   'large': 'https://covers.openlibrary.org/b/id/7355968-L.jpg'}}}"
      ]
     },
     "execution_count": 38,
     "metadata": {},
     "output_type": "execute_result"
    }
   ],
   "source": [
    "#option 2a\n",
    "# isbnkey=input(\"what is the book isbn you want to find?\")\n",
    "isbnkey=9780747532699\n",
    "url=f'https://openlibrary.org/api/books?'\n",
    "\n",
    "# bibkeys=ISBN:{isbnkey}&format=json&jscmd=data\n",
    "response=requests.get(url,params=\n",
    "                      {'bibkeys': f'ISBN:{isbnkey}',\n",
    "                       'format':'json',\n",
    "                       'jscmd':'data'}).json()\n",
    "response"
   ]
  },
  {
   "cell_type": "code",
   "execution_count": 43,
   "id": "c6d5ade2",
   "metadata": {},
   "outputs": [
    {
     "data": {
      "text/plain": [
       "\"Harry Potter and the Philosopher's Stone\""
      ]
     },
     "execution_count": 43,
     "metadata": {},
     "output_type": "execute_result"
    }
   ],
   "source": [
    "response['ISBN:9780747532699']['title']"
   ]
  },
  {
   "cell_type": "code",
   "execution_count": 57,
   "id": "73c85785",
   "metadata": {},
   "outputs": [
    {
     "data": {
      "text/plain": [
       "'ISBN:9780747532699'"
      ]
     },
     "execution_count": 57,
     "metadata": {},
     "output_type": "execute_result"
    }
   ],
   "source": [
    "#option 2b\n",
    "book_num=9780747532699\n",
    "url = 'https://openlibrary.org/api/books'\n",
    "isb = f'ISBN:{str(book_num)}'\n",
    "isb"
   ]
  },
  {
   "cell_type": "code",
   "execution_count": 65,
   "id": "7843e839",
   "metadata": {},
   "outputs": [],
   "source": [
    "paramdict={'bibkeys': isb, \n",
    "           'format': 'json', \n",
    "           'jscmd':'data'}\n",
    "\n",
    "response = requests.get(url,params=paramdict).json()\n"
   ]
  },
  {
   "cell_type": "code",
   "execution_count": 66,
   "id": "7fe78cde",
   "metadata": {},
   "outputs": [
    {
     "data": {
      "text/plain": [
       "\"Harry Potter and the Philosopher's Stone\""
      ]
     },
     "execution_count": 66,
     "metadata": {},
     "output_type": "execute_result"
    }
   ],
   "source": [
    "response[isb]['title']\n",
    "#response['ISBN:9780747532699']['title']\n"
   ]
  },
  {
   "cell_type": "markdown",
   "id": "65255c50",
   "metadata": {},
   "source": [
    "## Accessing Nested Dictionary"
   ]
  },
  {
   "cell_type": "code",
   "execution_count": 281,
   "id": "badc3298",
   "metadata": {},
   "outputs": [],
   "source": [
    "sample_dict=  {\"firstName\": \"John\",\n",
    "  \"lastName\": \"Smith\",\n",
    "  \"age\": 27,\n",
    "  \"address\": {\n",
    "    \"streetAddress\": \"21 2nd Street\",\n",
    "    \"city\": \"New York\",\n",
    "    \"state\": \"NY\",\n",
    "    \"postalCode\": \"10021-3100\"\n",
    "  },\n",
    "  \"phoneNumbers\": [\n",
    "    {\n",
    "      \"type\": \"home\",\n",
    "      \"number\": \"212 555-1234\"\n",
    "    },\n",
    "    {\n",
    "      \"type\": \"office\",\n",
    "      \"number\": \"646 555-4567\"\n",
    "    }\n",
    "  ],\n",
    "  \"children\": [\n",
    "      \"Catherine\",\n",
    "      \"Thomas\",\n",
    "      \"Trevor\"\n",
    "  ],\n",
    "  \"spouse\": ''\n",
    "}"
   ]
  },
  {
   "cell_type": "code",
   "execution_count": 282,
   "id": "d07e7026",
   "metadata": {},
   "outputs": [
    {
     "data": {
      "text/plain": [
       "dict_keys(['firstName', 'lastName', 'age', 'address', 'phoneNumbers', 'children', 'spouse'])"
      ]
     },
     "execution_count": 282,
     "metadata": {},
     "output_type": "execute_result"
    }
   ],
   "source": [
    "sample_dict.keys()"
   ]
  },
  {
   "cell_type": "code",
   "execution_count": 283,
   "id": "d55b23c1",
   "metadata": {},
   "outputs": [
    {
     "data": {
      "text/plain": [
       "{'streetAddress': '21 2nd Street',\n",
       " 'city': 'New York',\n",
       " 'state': 'NY',\n",
       " 'postalCode': '10021-3100'}"
      ]
     },
     "execution_count": 283,
     "metadata": {},
     "output_type": "execute_result"
    }
   ],
   "source": [
    "sample_dict['address']"
   ]
  },
  {
   "cell_type": "code",
   "execution_count": 284,
   "id": "30608ecf",
   "metadata": {},
   "outputs": [
    {
     "data": {
      "text/plain": [
       "'New York'"
      ]
     },
     "execution_count": 284,
     "metadata": {},
     "output_type": "execute_result"
    }
   ],
   "source": [
    "sample_dict['address']['city']"
   ]
  },
  {
   "cell_type": "markdown",
   "id": "c98959ed",
   "metadata": {},
   "source": [
    "# Web Scraping\n",
    "\n",
    "- find > find the first elements\n",
    "- find_all > find multiple elements"
   ]
  },
  {
   "cell_type": "code",
   "execution_count": 44,
   "id": "88eebdb3",
   "metadata": {},
   "outputs": [],
   "source": [
    "\n",
    "import requests\n",
    "from bs4 import BeautifulSoup"
   ]
  },
  {
   "cell_type": "code",
   "execution_count": 48,
   "id": "ba0a346c",
   "metadata": {},
   "outputs": [],
   "source": [
    "url=\"https://www.lewagon.com/\""
   ]
  },
  {
   "cell_type": "code",
   "execution_count": 50,
   "id": "3a6e7e38",
   "metadata": {},
   "outputs": [],
   "source": [
    "response=requests.get(url)\n",
    "# response.content"
   ]
  },
  {
   "cell_type": "code",
   "execution_count": 52,
   "id": "3ad6441f",
   "metadata": {},
   "outputs": [],
   "source": [
    "soup = BeautifulSoup(response.content, \"html.parser\") #lxml #html.parser "
   ]
  },
  {
   "cell_type": "code",
   "execution_count": 53,
   "id": "2b7cef7c",
   "metadata": {},
   "outputs": [
    {
     "data": {
      "text/plain": [
       "<title>Coding Bootcamp | Le Wagon</title>"
      ]
     },
     "execution_count": 53,
     "metadata": {},
     "output_type": "execute_result"
    }
   ],
   "source": [
    "soup.title"
   ]
  },
  {
   "cell_type": "code",
   "execution_count": 54,
   "id": "a6e6a7de",
   "metadata": {},
   "outputs": [
    {
     "data": {
      "text/plain": [
       "'Coding Bootcamp | Le Wagon'"
      ]
     },
     "execution_count": 54,
     "metadata": {},
     "output_type": "execute_result"
    }
   ],
   "source": [
    "#option1\n",
    "soup.title.text"
   ]
  },
  {
   "cell_type": "code",
   "execution_count": 80,
   "id": "c6e50576",
   "metadata": {},
   "outputs": [
    {
     "data": {
      "text/plain": [
       "'Coding Bootcamp | Le Wagon'"
      ]
     },
     "execution_count": 80,
     "metadata": {},
     "output_type": "execute_result"
    }
   ],
   "source": [
    "#option2 # search for tags  - 1 element\n",
    "soup.find('title').text\n"
   ]
  },
  {
   "cell_type": "code",
   "execution_count": 57,
   "id": "e2c2a794",
   "metadata": {},
   "outputs": [
    {
     "data": {
      "text/plain": [
       "'Build your future.Learn Tech & AI.'"
      ]
     },
     "execution_count": 57,
     "metadata": {},
     "output_type": "execute_result"
    }
   ],
   "source": [
    "soup.find(class_='main-title').text"
   ]
  },
  {
   "cell_type": "code",
   "execution_count": 59,
   "id": "8b7a3a2d-fbdd-4b89-ad7e-3ab7881ac6d0",
   "metadata": {},
   "outputs": [
    {
     "data": {
      "text/plain": [
       "'\\n\\n\\nCourses\\n\\n\\n'"
      ]
     },
     "execution_count": 59,
     "metadata": {},
     "output_type": "execute_result"
    }
   ],
   "source": [
    "soup.find(\"p\").text"
   ]
  },
  {
   "cell_type": "code",
   "execution_count": 62,
   "id": "1ab26d64-1ab3-4e12-a6f0-8c80107395e1",
   "metadata": {},
   "outputs": [
    {
     "name": "stdout",
     "output_type": "stream",
     "text": [
      "Courses\n",
      "Locations\n",
      "Learn tech skills from anywhere on the schedule that suits your life best.\n",
      "Why Le Wagon\n",
      "English\n",
      "Build Machine learning & AI models.\n",
      "Design efficient data pipelines.\n",
      "Turn your data into insights.\n",
      "Build modern software & AI apps.\n",
      "Learn AI-driven Marketing.\n",
      "Join our immersive courses in web development, data and AI to transform your career and access new opportunities.\n",
      "Our transformative training courses have helped thousands of students launch new careers in tech.\n",
      "200-400 hours\n",
      "Live classes\n",
      "Flexible - 2 to 7 months\n",
      "On site or online\n",
      "Build modern software & AI apps.\n",
      "Build Machine learning & AI models.\n",
      "Design efficient data pipelines.\n",
      "Turn your data into insights.\n",
      "Learn AI-driven Marketing.\n",
      "You can start for FREE! Join a live webinar for web development, data analytics, or UX design.\n",
      "Join our short courses to explore data, tech, and AI or enhance your tech skills.\n",
      "Data & AI\n",
      "Intro to Generative AI\n",
      "Web Analytics & Tracking\n",
      "Data Analytics Essentials\n",
      "Python & Machine Learning\n",
      "Product & Growth\n",
      "We are ranked among the best bootcamps in the world on Course Report, Switchup and Career Karma.\n",
      "4.98/5 based on 6000+ student reviews\n",
      "Join courses developed with industry experts and practice on hands-on projects to get actionable skills. Develop a standout portfolio to be ready for your job search.\n",
      "Forget self-paced courses or 30-min mentoring sessions. Get real teachers who care about your progress and are here to help you when you need it.You can join Le Wagon on-site, on 40 campuses, or online. If you choose the online format, you will live an immersive experience with lots of live sessions and interactions with teachers and peers.\n",
      "Our career services will prepare you to land a job in tech through personal coaching, job fairs, and a network of 1000+ hiring partners.\n",
      "graduates worldwide\n",
      "Join a global community present in 100+ countries to find a job, freelance gigs, launch your startup and access lots of career opportunities.\n",
      "1st-ranked bootcamp\n",
      "Le Wagon is listed among the best bootcamps and is a pioneer in intensive tech training. By joining Le Wagon, you will get access to the best-in-class curriculum and teachers.\n",
      "employment rate\n",
      "Our career team will help you land your dream job. No matter the career path you choose, we're here to support you.\n",
      "hiring partners\n",
      "We organize regular recruiting events where you can speak directly to recruiters who have already hired our alumni. Benefit from our international network.\n",
      "Finances shouldn't be a barrier to accessing our bootcamps. We're always finding new ways to facilitate payments and fundings.\n",
      "Transform your teams with Le Wagon's corporate training or hire our alumni in data and web development today.\n",
      "By joining  Le Wagon, you are joining a supportive community of alumni, teachers & tech recruiters. Benefit from life-long access to the course material, and to our network job offers.\n",
      "27,000\n",
      "alumni\n",
      "220\n",
      "tech startups founded\n",
      "1,500\n",
      "tech experts and instructors\n",
      "Boost your team with tech training\n",
      "Become a hiring partner\n",
      "Partner with Le Wagon\n",
      "4.98 / 5\n",
      "5200+ reviews\n",
      "4.98 / 5\n",
      "4.98 / 5\n",
      "4.9 / 5\n",
      "About us\n",
      "Resources\n",
      "Corporate\n",
      "Explore our free courses\n",
      "Get access to over 200 hours of expertly curated content.\n",
      "© 2024 Le Wagon, Inc. All rights reserved.\n"
     ]
    }
   ],
   "source": [
    "for element in soup.find_all(\"p\"):\n",
    "    print(element.text.strip())"
   ]
  },
  {
   "cell_type": "code",
   "execution_count": null,
   "id": "29131e90-057e-4e35-8271-4f54fb773fe5",
   "metadata": {},
   "outputs": [],
   "source": [
    "#find\n",
    "soup.select_one("
   ]
  },
  {
   "cell_type": "code",
   "execution_count": null,
   "id": "efab64b8-616a-4a9c-b815-9b8b0b8a216a",
   "metadata": {},
   "outputs": [],
   "source": [
    "#findall\n",
    "soup.select("
   ]
  },
  {
   "cell_type": "markdown",
   "id": "8b91508c",
   "metadata": {},
   "source": [
    "# Print Top 50 Movies"
   ]
  },
  {
   "cell_type": "code",
   "execution_count": 73,
   "id": "dcc1e1f6",
   "metadata": {},
   "outputs": [],
   "source": [
    "url=\"https://www.imdb.com/list/ls055386972/\""
   ]
  },
  {
   "cell_type": "code",
   "execution_count": 86,
   "id": "478ae47e",
   "metadata": {},
   "outputs": [],
   "source": [
    "headers = {\n",
    "    \"User-Agent\": \"Mozilla/5.0 (Macintosh; Intel Mac OS X 10.15; rv:126.0) Gecko/20100101 Firefox/126.0\",\n",
    "    \"Accept-Language\":\"en-US\"\n",
    "}\n",
    "response=requests.get(url, headers=headers)\n",
    "soup = BeautifulSoup(response.content, \"html.parser\")\n"
   ]
  },
  {
   "cell_type": "code",
   "execution_count": 81,
   "id": "577bc2a7",
   "metadata": {},
   "outputs": [],
   "source": [
    "#find tag for title\n",
    "#find tag for duration"
   ]
  },
  {
   "cell_type": "code",
   "execution_count": 87,
   "id": "dca5bfab",
   "metadata": {},
   "outputs": [
    {
     "data": {
      "text/plain": [
       "<li class=\"ipc-metadata-list-summary-item\"><div class=\"ipc-metadata-list-summary-item__c\"><div class=\"ipc-metadata-list-summary-item__tc\"><span aria-disabled=\"false\" class=\"ipc-metadata-list-summary-item__t\"></span><div class=\"sc-74bf520e-3 avhjJ dli-parent\"><div class=\"sc-74bf520e-2 WQsRg\"><div class=\"sc-e5a25b0f-0 iVAGjF dli-poster-container\"><div class=\"ipc-poster ipc-poster--base ipc-poster--dynamic-width ipc-sub-grid-item ipc-sub-grid-item--span-2\" role=\"group\"><div aria-label=\"add to watchlist\" class=\"ipc-watchlist-ribbon ipc-focusable ipc-watchlist-ribbon--s ipc-watchlist-ribbon--base ipc-watchlist-ribbon--loading ipc-watchlist-ribbon--onImage ipc-poster__watchlist-ribbon\" data-testid=\"poster-watchlist-ribbon-add\" role=\"button\" tabindex=\"0\"><svg class=\"ipc-watchlist-ribbon__bg\" height=\"34px\" role=\"presentation\" viewbox=\"0 0 24 34\" width=\"24px\" xmlns=\"http://www.w3.org/2000/svg\"><polygon class=\"ipc-watchlist-ribbon__bg-ribbon\" fill=\"#000000\" points=\"24 0 0 0 0 32 12.2436611 26.2926049 24 31.7728343\"></polygon><polygon class=\"ipc-watchlist-ribbon__bg-hover\" points=\"24 0 0 0 0 32 12.2436611 26.2926049 24 31.7728343\"></polygon><polygon class=\"ipc-watchlist-ribbon__bg-shadow\" points=\"24 31.7728343 24 33.7728343 12.2436611 28.2926049 0 34 0 32 12.2436611 26.2926049\"></polygon></svg><div class=\"ipc-watchlist-ribbon__icon\" role=\"presentation\"><svg class=\"ipc-loader ipc-loader--circle ipc-watchlist-ribbon__loader\" data-testid=\"watchlist-ribbon-loader\" height=\"48px\" role=\"presentation\" version=\"1.1\" viewbox=\"0 0 48 48\" width=\"48px\" xmlns=\"http://www.w3.org/2000/svg\"><g class=\"ipc-loader__container\" fill=\"currentColor\"><circle class=\"ipc-loader__circle ipc-loader__circle--one\" cx=\"24\" cy=\"9\" r=\"4\"></circle><circle class=\"ipc-loader__circle ipc-loader__circle--two\" cx=\"35\" cy=\"14\" r=\"4\"></circle><circle class=\"ipc-loader__circle ipc-loader__circle--three\" cx=\"39\" cy=\"24\" r=\"4\"></circle><circle class=\"ipc-loader__circle ipc-loader__circle--four\" cx=\"35\" cy=\"34\" r=\"4\"></circle><circle class=\"ipc-loader__circle ipc-loader__circle--five\" cx=\"24\" cy=\"39\" r=\"4\"></circle><circle class=\"ipc-loader__circle ipc-loader__circle--six\" cx=\"13\" cy=\"34\" r=\"4\"></circle><circle class=\"ipc-loader__circle ipc-loader__circle--seven\" cx=\"9\" cy=\"24\" r=\"4\"></circle><circle class=\"ipc-loader__circle ipc-loader__circle--eight\" cx=\"13\" cy=\"14\" r=\"4\"></circle></g></svg></div></div><div class=\"ipc-media ipc-media--poster-27x40 ipc-image-media-ratio--poster-27x40 ipc-media--rounded ipc-media--base ipc-media--poster-m ipc-poster__poster-image ipc-media__img\" style=\"width:100%\"><img alt=\"Marlon Brando in The Godfather (1972)\" class=\"ipc-image\" loading=\"lazy\" sizes=\"50vw, (min-width: 480px) 34vw, (min-width: 600px) 26vw, (min-width: 1024px) 16vw, (min-width: 1280px) 16vw\" src=\"https://m.media-amazon.com/images/M/MV5BM2MyNjYxNmUtYTAwNi00MTYxLWJmNWYtYzZlODY3ZTk3OTFlXkEyXkFqcGdeQXVyNzkwMjQ5NzM@._V1_QL75_UY207_CR3,0,140,207_.jpg\" srcset=\"https://m.media-amazon.com/images/M/MV5BM2MyNjYxNmUtYTAwNi00MTYxLWJmNWYtYzZlODY3ZTk3OTFlXkEyXkFqcGdeQXVyNzkwMjQ5NzM@._V1_QL75_UY207_CR3,0,140,207_.jpg 140w, https://m.media-amazon.com/images/M/MV5BM2MyNjYxNmUtYTAwNi00MTYxLWJmNWYtYzZlODY3ZTk3OTFlXkEyXkFqcGdeQXVyNzkwMjQ5NzM@._V1_QL75_UY311_CR4,0,210,311_.jpg 210w, https://m.media-amazon.com/images/M/MV5BM2MyNjYxNmUtYTAwNi00MTYxLWJmNWYtYzZlODY3ZTk3OTFlXkEyXkFqcGdeQXVyNzkwMjQ5NzM@._V1_QL75_UY414_CR6,0,280,414_.jpg 280w\" width=\"140\"/></div><a aria-label=\"View title page for The Godfather\" class=\"ipc-lockup-overlay ipc-focusable\" href=\"/title/tt0068646/?ref_=ls_i_1\"><div class=\"ipc-lockup-overlay__screen\"></div></a></div></div><div class=\"sc-b189961a-0 iqHBGn\"><div class=\"ipc-title ipc-title--base ipc-title--title ipc-title-link-no-icon ipc-title--on-textPrimary sc-b189961a-9 bnSrml dli-title\"><a class=\"ipc-title-link-wrapper\" href=\"/title/tt0068646/?ref_=ls_t_1\" tabindex=\"0\"><h3 class=\"ipc-title__text\">1. The Godfather</h3></a></div><div class=\"sc-b189961a-7 btCcOY dli-title-metadata\"><span class=\"sc-b189961a-8 hCbzGp dli-title-metadata-item\">1972</span><span class=\"sc-b189961a-8 hCbzGp dli-title-metadata-item\">2h 55m</span><span class=\"sc-b189961a-8 hCbzGp dli-title-metadata-item\">R</span></div><span class=\"sc-b189961a-1 kcRAsW\"><div class=\"sc-e2dbc1a3-0 jeHPdh sc-b189961a-2 bglYHz dli-ratings-container\" data-testid=\"ratingGroup--container\"><span aria-label=\"IMDb rating: 9.2\" class=\"ipc-rating-star ipc-rating-star--base ipc-rating-star--imdb ratingGroup--imdb-rating\" data-testid=\"ratingGroup--imdb-rating\"><svg class=\"ipc-icon ipc-icon--star-inline\" fill=\"currentColor\" height=\"24\" role=\"presentation\" viewbox=\"0 0 24 24\" width=\"24\" xmlns=\"http://www.w3.org/2000/svg\"><path d=\"M12 20.1l5.82 3.682c1.066.675 2.37-.322 2.09-1.584l-1.543-6.926 5.146-4.667c.94-.85.435-2.465-.799-2.567l-6.773-.602L13.29.89a1.38 1.38 0 0 0-2.581 0l-2.65 6.53-6.774.602C.052 8.126-.453 9.74.486 10.59l5.147 4.666-1.542 6.926c-.28 1.262 1.023 2.26 2.09 1.585L12 20.099z\"></path></svg><span class=\"ipc-rating-star--rating\">9.2</span><span class=\"ipc-rating-star--voteCount\"> (<!-- -->2M<!-- -->)</span></span><button aria-label=\"Rate The Godfather\" class=\"ipc-rate-button sc-e2dbc1a3-1 HRgde ratingGroup--user-rating ipc-rate-button--unrated ipc-rate-button--base\" data-testid=\"rate-button\"><span class=\"ipc-rating-star ipc-rating-star--base ipc-rating-star--rate\"><svg class=\"ipc-icon ipc-icon--star-border-inline\" fill=\"currentColor\" height=\"24\" role=\"presentation\" viewbox=\"0 0 24 24\" width=\"24\" xmlns=\"http://www.w3.org/2000/svg\"><path d=\"M22.724 8.217l-6.786-.587-2.65-6.22c-.477-1.133-2.103-1.133-2.58 0l-2.65 6.234-6.772.573c-1.234.098-1.739 1.636-.8 2.446l5.146 4.446-1.542 6.598c-.28 1.202 1.023 2.153 2.09 1.51l5.818-3.495 5.819 3.509c1.065.643 2.37-.308 2.089-1.51l-1.542-6.612 5.145-4.446c.94-.81.45-2.348-.785-2.446zm-10.726 8.89l-5.272 3.174 1.402-5.983-4.655-4.026 6.141-.531 2.384-5.634 2.398 5.648 6.14.531-4.654 4.026 1.402 5.983-5.286-3.187z\"></path></svg><span class=\"ipc-rating-star--rate\">Rate</span></span></button></div><span class=\"sc-b189961a-11 iuPJwO\"><span class=\"sc-b0901df4-0 bXIOoL metacritic-score-box\" style=\"background-color:#54A72A\">100</span><span class=\"metacritic-score-label\">Metascore</span></span></span></div><div class=\"sc-74bf520e-4 hfwpiS dli-post-element\"><button aria-disabled=\"false\" aria-label=\"See more information about The Godfather\" class=\"ipc-icon-button dli-info-icon ipc-icon-button--base ipc-icon-button--onAccent2\" role=\"button\" tabindex=\"0\" title=\"See more information about The Godfather\"><svg class=\"ipc-icon ipc-icon--info\" fill=\"currentColor\" height=\"24\" role=\"presentation\" viewbox=\"0 0 24 24\" width=\"24\" xmlns=\"http://www.w3.org/2000/svg\"><path d=\"M0 0h24v24H0V0z\" fill=\"none\"></path><path d=\"M11 7h2v2h-2zm0 4h2v6h-2zm1-9C6.48 2 2 6.48 2 12s4.48 10 10 10 10-4.48 10-10S17.52 2 12 2zm0 18c-4.41 0-8-3.59-8-8s3.59-8 8-8 8 3.59 8 8-3.59 8-8 8z\"></path></svg></button></div></div><div class=\"sc-74bf520e-1 Cxrmk\"><div class=\"ipc-html-content ipc-html-content--base sc-74bf520e-0 kwVZTe dli-plot-container\" role=\"presentation\"><div class=\"ipc-html-content-inner-div\" role=\"presentation\">Don Vito Corleone, head of a mafia family, decides to hand over his empire to his youngest son, Michael. However, his decision unintentionally puts the lives of his loved ones in grave danger.</div></div><span><span class=\"sc-74bf520e-6 OyeQl\">Director</span><span class=\"sc-74bf520e-5 eesgaX\"><a aria-disabled=\"false\" class=\"ipc-link ipc-link--base dli-director-item\" href=\"/name/nm0000338/?ref_=ls_pd_1\" id=\"nm0000338\" role=\"button\" tabindex=\"0\">Francis Ford Coppola</a></span><span class=\"sc-74bf520e-6 OyeQl\">Stars</span><span class=\"sc-74bf520e-5 eesgaX\"><a aria-disabled=\"false\" class=\"ipc-link ipc-link--base dli-cast-item\" href=\"/name/nm0000008/?ref_=ls_pca_1_1\" id=\"nm0000008\" role=\"button\" tabindex=\"0\">Marlon Brando</a></span><span class=\"sc-74bf520e-5 eesgaX\"><a aria-disabled=\"false\" class=\"ipc-link ipc-link--base dli-cast-item\" href=\"/name/nm0000199/?ref_=ls_pca_2_1\" id=\"nm0000199\" role=\"button\" tabindex=\"0\">Al Pacino</a></span><span class=\"sc-74bf520e-5 eesgaX\"><a aria-disabled=\"false\" class=\"ipc-link ipc-link--base dli-cast-item\" href=\"/name/nm0001001/?ref_=ls_pca_3_1\" id=\"nm0001001\" role=\"button\" tabindex=\"0\">James Caan</a></span></span></div></div></div></div></li>"
      ]
     },
     "execution_count": 87,
     "metadata": {},
     "output_type": "execute_result"
    }
   ],
   "source": [
    "#find box/card containing movie info\n",
    "box=soup.find(\"li\", class_=\"ipc-metadata-list-summary-item\")\n",
    "box"
   ]
  },
  {
   "cell_type": "code",
   "execution_count": 92,
   "id": "85a3c1cb-89de-4558-b905-f492d631b6d8",
   "metadata": {},
   "outputs": [
    {
     "data": {
      "text/plain": [
       "'The Godfather'"
      ]
     },
     "execution_count": 92,
     "metadata": {},
     "output_type": "execute_result"
    }
   ],
   "source": []
  },
  {
   "cell_type": "code",
   "execution_count": 93,
   "id": "7973a4aa",
   "metadata": {},
   "outputs": [],
   "source": [
    "#find tag for title\n",
    "title=box.find('h3').text.split(\". \")[1]"
   ]
  },
  {
   "cell_type": "code",
   "execution_count": 103,
   "id": "d216ff03",
   "metadata": {},
   "outputs": [
    {
     "data": {
      "text/plain": [
       "'2h 55m'"
      ]
     },
     "execution_count": 103,
     "metadata": {},
     "output_type": "execute_result"
    }
   ],
   "source": [
    "#find tag for duration\n",
    "duration=box.find_all(\"span\", class_='dli-title-metadata-item')[1].text"
   ]
  },
  {
   "cell_type": "code",
   "execution_count": 105,
   "id": "a7563cbf",
   "metadata": {},
   "outputs": [
    {
     "data": {
      "text/plain": [
       "[{'title': 'The Godfather', 'duration': '2h 55m'},\n",
       " {'title': \"Schindler's List\", 'duration': '3h 15m'},\n",
       " {'title': '12 Angry Men', 'duration': '1h 36m'},\n",
       " {'title': 'Life Is Beautiful', 'duration': '1h 56m'},\n",
       " {'title': 'The Good, the Bad and the Ugly', 'duration': '2h 58m'},\n",
       " {'title': 'The Shawshank Redemption', 'duration': '2h 22m'},\n",
       " {'title': 'The Pursuit of Happyness', 'duration': '1h 57m'},\n",
       " {'title': 'Seven Samurai', 'duration': '3h 27m'},\n",
       " {'title': 'The Intouchables', 'duration': '1h 52m'},\n",
       " {'title': 'Central Station', 'duration': '1h 50m'},\n",
       " {'title': 'Requiem for a Dream', 'duration': '1h 42m'},\n",
       " {'title': 'A Beautiful Mind', 'duration': '2h 15m'},\n",
       " {'title': \"Hachi: A Dog's Tale\", 'duration': '1h 33m'},\n",
       " {'title': 'Taken', 'duration': '1h 30m'},\n",
       " {'title': 'My Sassy Girl', 'duration': '2h 17m'},\n",
       " {'title': 'Amores Perros', 'duration': '2h 34m'},\n",
       " {'title': 'The Shining', 'duration': '2h 26m'},\n",
       " {'title': 'Apocalypto', 'duration': '2h 19m'},\n",
       " {'title': 'Gladiator', 'duration': '2h 35m'},\n",
       " {'title': 'Cast Away', 'duration': '2h 23m'},\n",
       " {'title': 'The Dark Knight', 'duration': '2h 32m'},\n",
       " {'title': 'The Pianist', 'duration': '2h 30m'},\n",
       " {'title': 'Titanic', 'duration': '3h 14m'},\n",
       " {'title': '3-Iron', 'duration': '1h 28m'},\n",
       " {'title': 'Braveheart', 'duration': '2h 58m'}]"
      ]
     },
     "execution_count": 105,
     "metadata": {},
     "output_type": "execute_result"
    }
   ],
   "source": [
    "#Option A - using find\n",
    "boxes=soup.find_all(\"li\", class_=\"ipc-metadata-list-summary-item\")\n",
    "movie_list=[]\n",
    "for box in boxes:\n",
    "    #find tag for title\n",
    "    title=box.find('h3').text.split(\". \")[1]\n",
    "    #find tag for duration\n",
    "    duration=box.find_all(\"span\", class_='dli-title-metadata-item')[1].text\n",
    "    # print(title, duration)\n",
    "    movie={ 'title': title, 'duration': duration }\n",
    "    movie_list.append(movie)\n",
    "movie_list"
   ]
  },
  {
   "cell_type": "code",
   "execution_count": 126,
   "id": "ace99a5b",
   "metadata": {},
   "outputs": [
    {
     "name": "stdout",
     "output_type": "stream",
     "text": [
      "175\n"
     ]
    }
   ],
   "source": []
  },
  {
   "cell_type": "code",
   "execution_count": null,
   "id": "1dfa0117",
   "metadata": {
    "scrolled": true
   },
   "outputs": [],
   "source": []
  },
  {
   "cell_type": "code",
   "execution_count": 128,
   "id": "8d2851a8",
   "metadata": {},
   "outputs": [],
   "source": [
    "# Export to a csv\n",
    "import csv\n",
    "\n",
    "with open('data/movielist.csv', 'w') as csvfile:\n",
    "    writer = csv.DictWriter(csvfile, fieldnames=movielist[0].keys())\n",
    "    writer.writeheader()\n",
    "    for ele in movie_list:\n",
    "          writer.writerow(ele)"
   ]
  },
  {
   "cell_type": "code",
   "execution_count": 131,
   "id": "292aa158",
   "metadata": {
    "scrolled": true
   },
   "outputs": [
    {
     "name": "stdout",
     "output_type": "stream",
     "text": [
      "La vita è bella\n",
      "116\n"
     ]
    }
   ],
   "source": [
    "#find movie with given rank\n",
    "rank=4\n",
    "box=box_list[rank-1]\n",
    "title=box.find('a').text\n",
    "print(title)\n",
    "runtime=box.find(class_='runtime').text.strip(' min')\n",
    "print(runtime)"
   ]
  },
  {
   "cell_type": "markdown",
   "id": "7375f42b",
   "metadata": {},
   "source": [
    "## Optional"
   ]
  },
  {
   "cell_type": "code",
   "execution_count": 110,
   "id": "9ca28fbc",
   "metadata": {},
   "outputs": [
    {
     "data": {
      "text/plain": [
       "[{'title': 'The Godfather', 'duration': '2h 55m'},\n",
       " {'title': \"Schindler's List\", 'duration': '3h 15m'},\n",
       " {'title': '12 Angry Men', 'duration': '1h 36m'},\n",
       " {'title': 'Life Is Beautiful', 'duration': '1h 56m'},\n",
       " {'title': 'The Good, the Bad and the Ugly', 'duration': '2h 58m'},\n",
       " {'title': 'The Shawshank Redemption', 'duration': '2h 22m'},\n",
       " {'title': 'The Pursuit of Happyness', 'duration': '1h 57m'},\n",
       " {'title': 'Seven Samurai', 'duration': '3h 27m'},\n",
       " {'title': 'The Intouchables', 'duration': '1h 52m'},\n",
       " {'title': 'Central Station', 'duration': '1h 50m'},\n",
       " {'title': 'Requiem for a Dream', 'duration': '1h 42m'},\n",
       " {'title': 'A Beautiful Mind', 'duration': '2h 15m'},\n",
       " {'title': \"Hachi: A Dog's Tale\", 'duration': '1h 33m'},\n",
       " {'title': 'Taken', 'duration': '1h 30m'},\n",
       " {'title': 'My Sassy Girl', 'duration': '2h 17m'},\n",
       " {'title': 'Amores Perros', 'duration': '2h 34m'},\n",
       " {'title': 'The Shining', 'duration': '2h 26m'},\n",
       " {'title': 'Apocalypto', 'duration': '2h 19m'},\n",
       " {'title': 'Gladiator', 'duration': '2h 35m'},\n",
       " {'title': 'Cast Away', 'duration': '2h 23m'},\n",
       " {'title': 'The Dark Knight', 'duration': '2h 32m'},\n",
       " {'title': 'The Pianist', 'duration': '2h 30m'},\n",
       " {'title': 'Titanic', 'duration': '3h 14m'},\n",
       " {'title': '3-Iron', 'duration': '1h 28m'},\n",
       " {'title': 'Braveheart', 'duration': '2h 58m'}]"
      ]
     },
     "execution_count": 110,
     "metadata": {},
     "output_type": "execute_result"
    }
   ],
   "source": [
    "\n",
    "#Option B using . css selector\n",
    "boxes=soup.find_all(\"li\", class_=\"ipc-metadata-list-summary-item\")\n",
    "movie_list=[]\n",
    "for box in boxes:\n",
    "    #find tag for title\n",
    "    title=box.h3.text.split(\". \")[1] #css selector\n",
    "    #find tag for duration\n",
    "    duration=box.find_all(\"span\", class_='dli-title-metadata-item')[1].text\n",
    "    # print(title, duration)\n",
    "    movie={ 'title': title, 'duration': duration }\n",
    "    movie_list.append(movie)\n",
    "movie_list"
   ]
  },
  {
   "cell_type": "code",
   "execution_count": 111,
   "id": "ba6b37c4",
   "metadata": {},
   "outputs": [
    {
     "data": {
      "text/plain": [
       "dict_keys(['title', 'duration'])"
      ]
     },
     "execution_count": 111,
     "metadata": {},
     "output_type": "execute_result"
    }
   ],
   "source": [
    "movie_list[0].keys()"
   ]
  },
  {
   "cell_type": "code",
   "execution_count": 112,
   "id": "031f3d34",
   "metadata": {},
   "outputs": [],
   "source": [
    "import csv\n",
    "\n",
    "with open('data/movielist.csv', 'w') as csvfile:\n",
    "    writer = csv.DictWriter(csvfile, fieldnames=movie_list[0].keys())\n",
    "    writer.writeheader()\n",
    "    for ele in movie_list:\n",
    "          writer.writerow(ele)"
   ]
  },
  {
   "cell_type": "code",
   "execution_count": 113,
   "id": "e0e7d390",
   "metadata": {},
   "outputs": [
    {
     "name": "stdout",
     "output_type": "stream",
     "text": [
      "title,duration\n",
      "The Godfather,2h 55m\n",
      "Schindler's List,3h 15m\n",
      "12 Angry Men,1h 36m\n",
      "Life Is Beautiful,1h 56m\n",
      "\"The Good, the Bad and the Ugly\",2h 58m\n",
      "The Shawshank Redemption,2h 22m\n",
      "The Pursuit of Happyness,1h 57m\n",
      "Seven Samurai,3h 27m\n",
      "The Intouchables,1h 52m\n",
      "Central Station,1h 50m\n",
      "Requiem for a Dream,1h 42m\n",
      "A Beautiful Mind,2h 15m\n",
      "Hachi: A Dog's Tale,1h 33m\n",
      "Taken,1h 30m\n",
      "My Sassy Girl,2h 17m\n",
      "Amores Perros,2h 34m\n",
      "The Shining,2h 26m\n",
      "Apocalypto,2h 19m\n",
      "Gladiator,2h 35m\n",
      "Cast Away,2h 23m\n",
      "The Dark Knight,2h 32m\n",
      "The Pianist,2h 30m\n",
      "Titanic,3h 14m\n",
      "3-Iron,1h 28m\n",
      "Braveheart,2h 58m\n"
     ]
    }
   ],
   "source": [
    "!cat data/movielist.csv"
   ]
  },
  {
   "cell_type": "code",
   "execution_count": null,
   "id": "4d92d160",
   "metadata": {},
   "outputs": [],
   "source": []
  },
  {
   "cell_type": "code",
   "execution_count": null,
   "id": "f80bd15c-1c59-43fd-a8e9-3756668848f6",
   "metadata": {},
   "outputs": [],
   "source": []
  }
 ],
 "metadata": {
  "kernelspec": {
   "display_name": "Python 3 (ipykernel)",
   "language": "python",
   "name": "python3"
  },
  "language_info": {
   "codemirror_mode": {
    "name": "ipython",
    "version": 3
   },
   "file_extension": ".py",
   "mimetype": "text/x-python",
   "name": "python",
   "nbconvert_exporter": "python",
   "pygments_lexer": "ipython3",
   "version": "3.10.6"
  },
  "toc": {
   "base_numbering": 1,
   "nav_menu": {},
   "number_sections": true,
   "sideBar": true,
   "skip_h1_title": false,
   "title_cell": "Table of Contents",
   "title_sidebar": "Contents",
   "toc_cell": false,
   "toc_position": {},
   "toc_section_display": true,
   "toc_window_display": false
  }
 },
 "nbformat": 4,
 "nbformat_minor": 5
}
