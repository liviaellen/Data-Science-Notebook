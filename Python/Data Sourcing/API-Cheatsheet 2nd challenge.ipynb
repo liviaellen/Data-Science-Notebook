{
 "cells": [
  {
   "cell_type": "markdown",
   "id": "11bb40b5",
   "metadata": {},
   "source": [
    "Prepared by Livia Ellen\n",
    "\n",
    "https://github.com/liviaellen"
   ]
  },
  {
   "cell_type": "markdown",
   "id": "44966568",
   "metadata": {},
   "source": [
    "# CheatSheet"
   ]
  },
  {
   "cell_type": "code",
   "execution_count": 1,
   "id": "e4bc8d98",
   "metadata": {},
   "outputs": [],
   "source": [
    "import requests\n",
    "\n",
    "#solution1 - pass the params using string interpolation\n",
    "query='barcelona'\n",
    "url = f\"https://weather.lewagon.com/geo/1.0/direct?q={query}\"\n",
    "cities = requests.get(url).json() # returns a list of dictionary\n"
   ]
  },
  {
   "cell_type": "code",
   "execution_count": 2,
   "id": "9ed11396",
   "metadata": {},
   "outputs": [
    {
     "data": {
      "text/plain": [
       "[{'name': 'Barcelona',\n",
       "  'local_names': {'sr': 'Барселона',\n",
       "   'pl': 'Barcelona',\n",
       "   'el': 'Βαρκελώνη',\n",
       "   'ru': 'Барселона',\n",
       "   'ja': 'バルセロナ',\n",
       "   'ar': 'برشلونة',\n",
       "   'de': 'Barcelona',\n",
       "   'tr': 'Barselona',\n",
       "   'cs': 'Barcelona',\n",
       "   'hi': 'बार्सॆलोना',\n",
       "   'zh': '巴塞罗那',\n",
       "   'eo': 'Barcelono',\n",
       "   'ca': 'Barcelona',\n",
       "   'fr': 'Barcelone',\n",
       "   'kn': 'ಬಾರ್ಸೆಲೋನಾ',\n",
       "   'ko': '바르셀로나',\n",
       "   'br': 'Barcelona',\n",
       "   'be': 'Барселона',\n",
       "   'he': 'ברצלונה',\n",
       "   'es': 'Barcelona',\n",
       "   'pt': 'Barcelona',\n",
       "   'eu': 'Bartzelona',\n",
       "   'gd': 'Barsalòna',\n",
       "   'mk': 'Барселона',\n",
       "   'lt': 'Barselona',\n",
       "   'gl': 'Barcelona',\n",
       "   'oc': 'Barcelona',\n",
       "   'uk': 'Барселона',\n",
       "   'it': 'Barcellona',\n",
       "   'en': 'Barcelona'},\n",
       "  'lat': 41.3828939,\n",
       "  'lon': 2.1774322,\n",
       "  'country': 'ES',\n",
       "  'state': 'Catalonia'}]"
      ]
     },
     "execution_count": 2,
     "metadata": {},
     "output_type": "execute_result"
    }
   ],
   "source": [
    "cities"
   ]
  },
  {
   "cell_type": "code",
   "execution_count": 3,
   "id": "ce98a889",
   "metadata": {},
   "outputs": [],
   "source": [
    "#solution2 - pass the params on the params arguments\n",
    "query='barcelona'\n",
    "url = \"https://weather.lewagon.com/geo/1.0/direct\"\n",
    "parameter ={'q': query}\n",
    "cities = requests.get(url, params = parameter).json()  # returns a list of dictionary\n"
   ]
  },
  {
   "cell_type": "code",
   "execution_count": 4,
   "id": "a80aafe2",
   "metadata": {},
   "outputs": [
    {
     "data": {
      "text/plain": [
       "[{'name': 'Barcelona',\n",
       "  'local_names': {'sr': 'Барселона',\n",
       "   'pl': 'Barcelona',\n",
       "   'el': 'Βαρκελώνη',\n",
       "   'ru': 'Барселона',\n",
       "   'ja': 'バルセロナ',\n",
       "   'ar': 'برشلونة',\n",
       "   'de': 'Barcelona',\n",
       "   'tr': 'Barselona',\n",
       "   'cs': 'Barcelona',\n",
       "   'hi': 'बार्सॆलोना',\n",
       "   'zh': '巴塞罗那',\n",
       "   'eo': 'Barcelono',\n",
       "   'ca': 'Barcelona',\n",
       "   'fr': 'Barcelone',\n",
       "   'kn': 'ಬಾರ್ಸೆಲೋನಾ',\n",
       "   'ko': '바르셀로나',\n",
       "   'br': 'Barcelona',\n",
       "   'be': 'Барселона',\n",
       "   'he': 'ברצלונה',\n",
       "   'es': 'Barcelona',\n",
       "   'pt': 'Barcelona',\n",
       "   'eu': 'Bartzelona',\n",
       "   'gd': 'Barsalòna',\n",
       "   'mk': 'Барселона',\n",
       "   'lt': 'Barselona',\n",
       "   'gl': 'Barcelona',\n",
       "   'oc': 'Barcelona',\n",
       "   'uk': 'Барселона',\n",
       "   'it': 'Barcellona',\n",
       "   'en': 'Barcelona'},\n",
       "  'lat': 41.3828939,\n",
       "  'lon': 2.1774322,\n",
       "  'country': 'ES',\n",
       "  'state': 'Catalonia'}]"
      ]
     },
     "execution_count": 4,
     "metadata": {},
     "output_type": "execute_result"
    }
   ],
   "source": [
    "#accessing the list\n",
    "cities"
   ]
  },
  {
   "cell_type": "code",
   "execution_count": 5,
   "id": "6584a882",
   "metadata": {},
   "outputs": [
    {
     "data": {
      "text/plain": [
       "dict_keys(['name', 'local_names', 'lat', 'lon', 'country', 'state'])"
      ]
     },
     "execution_count": 5,
     "metadata": {},
     "output_type": "execute_result"
    }
   ],
   "source": [
    "#accessing the dictionary \n",
    "cities[0].keys()"
   ]
  },
  {
   "cell_type": "code",
   "execution_count": 6,
   "id": "97f47bd5",
   "metadata": {},
   "outputs": [
    {
     "data": {
      "text/plain": [
       "'Barcelona'"
      ]
     },
     "execution_count": 6,
     "metadata": {},
     "output_type": "execute_result"
    }
   ],
   "source": [
    "cities[0]['name'] #accessing the name of the city"
   ]
  },
  {
   "cell_type": "code",
   "execution_count": 7,
   "id": "e6b58b2c",
   "metadata": {},
   "outputs": [
    {
     "data": {
      "text/plain": [
       "41.3828939"
      ]
     },
     "execution_count": 7,
     "metadata": {},
     "output_type": "execute_result"
    }
   ],
   "source": [
    "cities[0]['lat'] #accessing the lat of the city"
   ]
  },
  {
   "cell_type": "code",
   "execution_count": 8,
   "id": "811cc1a8",
   "metadata": {},
   "outputs": [
    {
     "data": {
      "text/plain": [
       "2.1774322"
      ]
     },
     "execution_count": 8,
     "metadata": {},
     "output_type": "execute_result"
    }
   ],
   "source": [
    "cities[0]['lon'] #accessing the lon of the city"
   ]
  },
  {
   "cell_type": "code",
   "execution_count": 9,
   "id": "2bcceb94",
   "metadata": {},
   "outputs": [],
   "source": [
    "\n",
    "#solution1 - pass the params using string interpolation\n",
    "def search_city(city):\n",
    "    url = f\"https://weather.lewagon.com/geo/1.0/direct?q={city}\"\n",
    "    cities = requests.get(url).json() # returns a list of dictionary\n",
    "    return (cities[0]['lat'],cities[0]['lon'])"
   ]
  },
  {
   "cell_type": "code",
   "execution_count": 10,
   "id": "347718cb",
   "metadata": {},
   "outputs": [
    {
     "data": {
      "text/plain": [
       "(-6.1753942, 106.827183)"
      ]
     },
     "execution_count": 10,
     "metadata": {},
     "output_type": "execute_result"
    }
   ],
   "source": [
    "search_city('jakarta')"
   ]
  }
 ],
 "metadata": {
  "kernelspec": {
   "display_name": "Python 3 (ipykernel)",
   "language": "python",
   "name": "python3"
  },
  "language_info": {
   "codemirror_mode": {
    "name": "ipython",
    "version": 3
   },
   "file_extension": ".py",
   "mimetype": "text/x-python",
   "name": "python",
   "nbconvert_exporter": "python",
   "pygments_lexer": "ipython3",
   "version": "3.10.6"
  },
  "toc": {
   "base_numbering": 1,
   "nav_menu": {},
   "number_sections": true,
   "sideBar": true,
   "skip_h1_title": false,
   "title_cell": "Table of Contents",
   "title_sidebar": "Contents",
   "toc_cell": false,
   "toc_position": {},
   "toc_section_display": true,
   "toc_window_display": false
  }
 },
 "nbformat": 4,
 "nbformat_minor": 5
}
