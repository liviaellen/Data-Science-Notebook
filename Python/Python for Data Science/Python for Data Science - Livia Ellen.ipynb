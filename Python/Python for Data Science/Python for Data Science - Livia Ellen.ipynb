{
 "cells": [
  {
   "cell_type": "markdown",
   "id": "03f6ff52-b4a4-496d-a0c3-de14e7dfb098",
   "metadata": {
    "tags": []
   },
   "source": [
    "# Python for DS\n",
    "\n",
    "Batch 1800\n",
    "Riyadh - Saudi Arabia\n",
    "\n",
    "Livia Ellen"
   ]
  },
  {
   "cell_type": "markdown",
   "id": "c3f65520",
   "metadata": {},
   "source": [
    "This is a markdown\n",
    "# This is a heading1\n",
    "## This is a heading2\n",
    "\n",
    "Tips:\n",
    "\n",
    "- Esc + A = new cell above\n",
    "- Esc + B = new cell below\n",
    "\n",
    "Esc + Y = convert to code cell\n",
    "Esc + M = convert to markdown/text cell\n",
    "\n",
    "- Ctrl + Shift + - = separate a cell\n",
    "- Shift Enter = Run and go to next cell\n",
    "\n",
    "\n",
    "Highlight for multiple lines\n",
    "- Cmd + / = Add remove comment\n",
    "- Tab  = add indentation\n",
    "- Shift Tab = remove indentation\n",
    "\n",
    "How to find documentation:\n",
    "- help(func_name)\n",
    "- func_name?\n",
    "- func_name(*press shift + Tab)\n",
    "\n",
    "\n",
    "What if your code is deleted\n",
    "- Try to click Undo\n",
    "- _ih : list of all executed cells\n",
    "- _ih[-5] : see last 5 executed cell\n"
   ]
  },
  {
   "cell_type": "markdown",
   "id": "3c6192ba",
   "metadata": {},
   "source": []
  },
  {
   "cell_type": "markdown",
   "id": "3b4ea5a0-d5fa-4ecc-93d9-60c0e7adb288",
   "metadata": {
    "tags": []
   },
   "source": [
    "## REPL - Read, Eval, Print, Loop"
   ]
  },
  {
   "cell_type": "markdown",
   "id": "b237d008-8e5c-4796-8568-de26c74c43f4",
   "metadata": {},
   "source": [
    "REPL is the base principle of `ipython`, and Jupyter Notebooks run on an `ipython` kernel! As such, code ran inside cells will evaluate instantly."
   ]
  },
  {
   "cell_type": "code",
   "execution_count": 1,
   "id": "e5f3a044-b78b-47f0-a419-153734a44af5",
   "metadata": {},
   "outputs": [
    {
     "data": {
      "text/plain": [
       "4"
      ]
     },
     "execution_count": 1,
     "metadata": {},
     "output_type": "execute_result"
    }
   ],
   "source": [
    "2 + 2"
   ]
  },
  {
   "cell_type": "code",
   "execution_count": null,
   "id": "7bf4bd0b-6eed-47d1-a920-72d2a73cd99f",
   "metadata": {},
   "outputs": [],
   "source": []
  },
  {
   "cell_type": "markdown",
   "id": "2743434f-9ada-43ee-83f3-b3638e7a54ed",
   "metadata": {},
   "source": [
    "## Built-in Datatypes"
   ]
  },
  {
   "cell_type": "markdown",
   "id": "b66edf88-fea1-4643-8b5b-218aa6c9a11f",
   "metadata": {},
   "source": [
    "### Numeric Types"
   ]
  },
  {
   "cell_type": "markdown",
   "id": "4373a0d7-4238-4f50-bc75-eadcbf55faaa",
   "metadata": {},
   "source": [
    "Integers are the regular numbers..."
   ]
  },
  {
   "cell_type": "code",
   "execution_count": 2,
   "id": "3c703154-7f91-4a1f-bc18-b8fd2a2d51be",
   "metadata": {},
   "outputs": [
    {
     "data": {
      "text/plain": [
       "int"
      ]
     },
     "execution_count": 2,
     "metadata": {},
     "output_type": "execute_result"
    }
   ],
   "source": [
    "type(42)"
   ]
  },
  {
   "cell_type": "markdown",
   "id": "80c8a756-c3e8-43d7-ab71-a691446db262",
   "metadata": {},
   "source": [
    "...and floats are the ones with a comma!"
   ]
  },
  {
   "cell_type": "code",
   "execution_count": 3,
   "id": "58f16580-f15e-4c46-919c-9c2a3431d275",
   "metadata": {},
   "outputs": [
    {
     "data": {
      "text/plain": [
       "float"
      ]
     },
     "execution_count": 3,
     "metadata": {},
     "output_type": "execute_result"
    }
   ],
   "source": [
    "type(42.0)"
   ]
  },
  {
   "cell_type": "markdown",
   "id": "ea1bd5d5-d597-40a5-8f1a-1889dfae2f09",
   "metadata": {},
   "source": [
    "When adding `ints` and `floats`, it works just as you would expect. When dividing two `int`s that result in a `float`, however, there is also an option of using double slashes to floor the number (meaning it will result in an `int`"
   ]
  },
  {
   "cell_type": "code",
   "execution_count": 4,
   "id": "032bd2bb-4354-4a9d-9f37-212d94118716",
   "metadata": {},
   "outputs": [
    {
     "data": {
      "text/plain": [
       "int"
      ]
     },
     "execution_count": 4,
     "metadata": {},
     "output_type": "execute_result"
    }
   ],
   "source": [
    "type(4 + 4)"
   ]
  },
  {
   "cell_type": "code",
   "execution_count": 5,
   "id": "829e23a0-15c0-460f-a095-d19ae08dae96",
   "metadata": {},
   "outputs": [
    {
     "data": {
      "text/plain": [
       "float"
      ]
     },
     "execution_count": 5,
     "metadata": {},
     "output_type": "execute_result"
    }
   ],
   "source": [
    "type(4 + 4.5)"
   ]
  },
  {
   "cell_type": "code",
   "execution_count": 6,
   "id": "7c0f1f1b-d8dd-472e-845f-5a5b6ba2b56a",
   "metadata": {},
   "outputs": [
    {
     "name": "stdout",
     "output_type": "stream",
     "text": [
      "1.3333333333333333\n"
     ]
    },
    {
     "data": {
      "text/plain": [
       "float"
      ]
     },
     "execution_count": 6,
     "metadata": {},
     "output_type": "execute_result"
    }
   ],
   "source": [
    "print(4 / 3)\n",
    "type(4 / 3)"
   ]
  },
  {
   "cell_type": "code",
   "execution_count": 7,
   "id": "40e5c215-172d-40b9-9913-ebbf7abbcd00",
   "metadata": {},
   "outputs": [
    {
     "name": "stdout",
     "output_type": "stream",
     "text": [
      "1\n"
     ]
    },
    {
     "data": {
      "text/plain": [
       "int"
      ]
     },
     "execution_count": 7,
     "metadata": {},
     "output_type": "execute_result"
    }
   ],
   "source": [
    "print(4 // 3)\n",
    "type(4 // 3)"
   ]
  },
  {
   "cell_type": "markdown",
   "id": "968a54ce-1542-40f5-8bd6-3f09ba659caa",
   "metadata": {},
   "source": [
    "### Booleans"
   ]
  },
  {
   "cell_type": "markdown",
   "id": "ea1f9a6c-d8e3-4049-b68d-21d9b32697d5",
   "metadata": {},
   "source": [
    "Booleans (or bools) are values that indicate `True` of `False`. You can use this and keywords like `and` and `or` to create more complex conditions for your control flows.\n",
    "\n",
    "All objects in Python are `True`, except for `None`, `False`, `0` of any numeric type, and empty collections (like `[]`)"
   ]
  },
  {
   "cell_type": "code",
   "execution_count": 8,
   "id": "5bb82095-b13c-4e33-886b-80044fec0b69",
   "metadata": {},
   "outputs": [
    {
     "data": {
      "text/plain": [
       "bool"
      ]
     },
     "execution_count": 8,
     "metadata": {},
     "output_type": "execute_result"
    }
   ],
   "source": [
    "type(False)"
   ]
  },
  {
   "cell_type": "code",
   "execution_count": 9,
   "id": "1e93339d-00d9-4101-8dce-1dc484883fe5",
   "metadata": {},
   "outputs": [
    {
     "data": {
      "text/plain": [
       "False"
      ]
     },
     "execution_count": 9,
     "metadata": {},
     "output_type": "execute_result"
    }
   ],
   "source": [
    "True and False"
   ]
  },
  {
   "cell_type": "code",
   "execution_count": 10,
   "id": "4845b30c-c1d0-45bc-89c0-b2fd45b5e5bb",
   "metadata": {},
   "outputs": [
    {
     "data": {
      "text/plain": [
       "True"
      ]
     },
     "execution_count": 10,
     "metadata": {},
     "output_type": "execute_result"
    }
   ],
   "source": [
    "True or False"
   ]
  },
  {
   "cell_type": "markdown",
   "id": "b0b1d35c-e0ec-4a2e-bfd5-a7ae8a8adba8",
   "metadata": {},
   "source": [
    "You can also use parentheses to evaluate them first, then the rest."
   ]
  },
  {
   "cell_type": "code",
   "execution_count": 11,
   "id": "f2388c8c-592a-4a8d-9ae9-0c9f7de877fa",
   "metadata": {},
   "outputs": [
    {
     "data": {
      "text/plain": [
       "True"
      ]
     },
     "execution_count": 11,
     "metadata": {},
     "output_type": "execute_result"
    }
   ],
   "source": [
    "(True and True) or False"
   ]
  },
  {
   "cell_type": "markdown",
   "id": "5a3610a3-57bf-4c04-b562-f755108c7074",
   "metadata": {},
   "source": [
    "Lastly, there is also `not`, used to negate the condition."
   ]
  },
  {
   "cell_type": "code",
   "execution_count": 12,
   "id": "560911bd-a96f-4b20-9ef5-f90db929ec4b",
   "metadata": {},
   "outputs": [
    {
     "data": {
      "text/plain": [
       "False"
      ]
     },
     "execution_count": 12,
     "metadata": {},
     "output_type": "execute_result"
    }
   ],
   "source": [
    "not True"
   ]
  },
  {
   "cell_type": "markdown",
   "id": "1a266bf0-58fc-4967-8730-97f50a140b89",
   "metadata": {},
   "source": [
    "The same concept is used to also create conditions of (in)equality."
   ]
  },
  {
   "cell_type": "code",
   "execution_count": 13,
   "id": "235436b2-c7b0-4ed0-9e22-e1f048e98377",
   "metadata": {},
   "outputs": [
    {
     "data": {
      "text/plain": [
       "True"
      ]
     },
     "execution_count": 13,
     "metadata": {},
     "output_type": "execute_result"
    }
   ],
   "source": [
    "3 < 5"
   ]
  },
  {
   "cell_type": "code",
   "execution_count": 14,
   "id": "4c4e6946-1d14-46f5-8ca0-58be71efadc2",
   "metadata": {},
   "outputs": [
    {
     "data": {
      "text/plain": [
       "False"
      ]
     },
     "execution_count": 14,
     "metadata": {},
     "output_type": "execute_result"
    }
   ],
   "source": [
    "3 <= 2"
   ]
  },
  {
   "cell_type": "code",
   "execution_count": 15,
   "id": "aee6b449-ab61-442f-a005-1312aff6eddd",
   "metadata": {},
   "outputs": [
    {
     "name": "stdout",
     "output_type": "stream",
     "text": [
      "True\n",
      "False\n"
     ]
    }
   ],
   "source": [
    "some_string = 'unknown'\n",
    "\n",
    "print(some_string.upper() == 'UNKNOWN')\n",
    "print(some_string.upper() != 'UNKNOWN')"
   ]
  },
  {
   "cell_type": "markdown",
   "id": "e5a08787-79fc-4d5b-b896-bcc1a56e9c0f",
   "metadata": {},
   "source": [
    "### Strings"
   ]
  },
  {
   "cell_type": "markdown",
   "id": "900a9276-b013-4342-92d8-9979eac90260",
   "metadata": {},
   "source": [
    "`Strings` are called `Strings` because they are a string of characters!"
   ]
  },
  {
   "cell_type": "code",
   "execution_count": 16,
   "id": "ca70de96-a587-4d98-a254-d7b460b92491",
   "metadata": {},
   "outputs": [
    {
     "data": {
      "text/plain": [
       "'ellen'"
      ]
     },
     "execution_count": 16,
     "metadata": {},
     "output_type": "execute_result"
    }
   ],
   "source": [
    "'ellen'"
   ]
  },
  {
   "cell_type": "code",
   "execution_count": 17,
   "id": "3af2f659-8f2d-4203-9e21-7f1270d1e81b",
   "metadata": {},
   "outputs": [
    {
     "data": {
      "text/plain": [
       "'ellen'"
      ]
     },
     "execution_count": 17,
     "metadata": {},
     "output_type": "execute_result"
    }
   ],
   "source": [
    "\"ellen\""
   ]
  },
  {
   "cell_type": "code",
   "execution_count": 18,
   "id": "afbb6646-afb5-4e68-b396-7bd4070fb81c",
   "metadata": {},
   "outputs": [
    {
     "name": "stdout",
     "output_type": "stream",
     "text": [
      "ellen \n",
      "\n",
      "\n",
      "\n",
      "livia\n"
     ]
    }
   ],
   "source": [
    "print(\"\"\"ellen\n",
    "\n",
    "\n",
    "\n",
    "livia\"\"\")\n"
   ]
  },
  {
   "cell_type": "code",
   "execution_count": null,
   "id": "0a92c803-f2fe-4310-bb03-3f6d8f0dcc83",
   "metadata": {},
   "outputs": [],
   "source": []
  },
  {
   "cell_type": "code",
   "execution_count": 19,
   "id": "fd77429a-ec25-41df-a4c5-b85350e51d54",
   "metadata": {},
   "outputs": [
    {
     "data": {
      "text/plain": [
       "'Boris'"
      ]
     },
     "execution_count": 19,
     "metadata": {},
     "output_type": "execute_result"
    }
   ],
   "source": [
    "'boris'.capitalize()"
   ]
  },
  {
   "cell_type": "code",
   "execution_count": 20,
   "id": "fe730c8a-430a-4257-9213-6821765eb1cd",
   "metadata": {},
   "outputs": [
    {
     "data": {
      "text/plain": [
       "'boris'"
      ]
     },
     "execution_count": 20,
     "metadata": {},
     "output_type": "execute_result"
    }
   ],
   "source": [
    "'           boris'.strip()"
   ]
  },
  {
   "cell_type": "code",
   "execution_count": 21,
   "id": "bfa64db2-7346-4084-880e-272621eb872e",
   "metadata": {},
   "outputs": [
    {
     "data": {
      "text/plain": [
       "'Hello elle'"
      ]
     },
     "execution_count": 21,
     "metadata": {},
     "output_type": "execute_result"
    }
   ],
   "source": [
    "\"Hello ellen\".strip(\"n\")"
   ]
  },
  {
   "cell_type": "code",
   "execution_count": 22,
   "id": "e0760182-741b-44c2-ac2f-5c13f6d505f2",
   "metadata": {},
   "outputs": [
    {
     "data": {
      "text/plain": [
       "'Hello ellen'"
      ]
     },
     "execution_count": 22,
     "metadata": {},
     "output_type": "execute_result"
    }
   ],
   "source": [
    "\"Hello ellen\".lstrip(\"n\")"
   ]
  },
  {
   "cell_type": "code",
   "execution_count": 23,
   "id": "e0ea4a9e-0226-428d-8575-8166320c7e27",
   "metadata": {},
   "outputs": [
    {
     "data": {
      "text/plain": [
       "'Hello elle'"
      ]
     },
     "execution_count": 23,
     "metadata": {},
     "output_type": "execute_result"
    }
   ],
   "source": [
    "\"Hello ellen\".rstrip(\"n\")"
   ]
  },
  {
   "cell_type": "code",
   "execution_count": 24,
   "id": "0c6fc9f6-14f5-4c18-a8c8-ef0585538448",
   "metadata": {},
   "outputs": [
    {
     "data": {
      "text/plain": [
       "str"
      ]
     },
     "execution_count": 24,
     "metadata": {},
     "output_type": "execute_result"
    }
   ],
   "source": [
    "type('42')"
   ]
  },
  {
   "cell_type": "code",
   "execution_count": 25,
   "id": "8e1ce602-894b-44da-b9b3-08ebd5f2d6ca",
   "metadata": {},
   "outputs": [
    {
     "data": {
      "text/plain": [
       "'421'"
      ]
     },
     "execution_count": 25,
     "metadata": {},
     "output_type": "execute_result"
    }
   ],
   "source": [
    "\"42\" + \"1\""
   ]
  },
  {
   "cell_type": "markdown",
   "id": "3f96559d-134e-4971-8192-0661487e5983",
   "metadata": {},
   "source": [
    "You can use `int()` to convert compatible `String`s to `int`s."
   ]
  },
  {
   "cell_type": "code",
   "execution_count": 26,
   "id": "dad0af6c-721d-4070-8504-e9f09ee0cc7c",
   "metadata": {},
   "outputs": [
    {
     "data": {
      "text/plain": [
       "43"
      ]
     },
     "execution_count": 26,
     "metadata": {},
     "output_type": "execute_result"
    }
   ],
   "source": [
    "int('42') + int('1')"
   ]
  },
  {
   "cell_type": "markdown",
   "id": "3d863048-728f-4b26-a921-9e748dc63d01",
   "metadata": {},
   "source": [
    "## Advanced Datatypes"
   ]
  },
  {
   "cell_type": "markdown",
   "id": "bff74125-0708-4361-89f3-74ae76deb432",
   "metadata": {},
   "source": [
    "### List"
   ]
  },
  {
   "cell_type": "markdown",
   "id": "674c8cb2-f2a8-40b8-920c-52b1f940cece",
   "metadata": {},
   "source": [
    "`list`s are just collections of items. You can mix and match the datatypes within a list as well."
   ]
  },
  {
   "cell_type": "code",
   "execution_count": 27,
   "id": "f889cb1d-3fe7-44b5-8c77-4d7ddbf3bc1a",
   "metadata": {},
   "outputs": [
    {
     "data": {
      "text/plain": [
       "3"
      ]
     },
     "execution_count": 27,
     "metadata": {},
     "output_type": "execute_result"
    }
   ],
   "source": [
    "cool_list = ['bruno', 42, 'boris']\n",
    "\n",
    "len(cool_list)"
   ]
  },
  {
   "cell_type": "markdown",
   "id": "d0605904-6f41-4455-8514-eed66923fa60",
   "metadata": {},
   "source": [
    "To check if a given element is in a list, use the `in` keyword..."
   ]
  },
  {
   "cell_type": "code",
   "execution_count": 28,
   "id": "f5fe132f-1776-4f8a-be4b-42839de59a62",
   "metadata": {},
   "outputs": [
    {
     "data": {
      "text/plain": [
       "True"
      ]
     },
     "execution_count": 28,
     "metadata": {},
     "output_type": "execute_result"
    }
   ],
   "source": [
    "42 in cool_list"
   ]
  },
  {
   "cell_type": "markdown",
   "id": "f040317c-eb01-4c39-b31e-7ed000c2ed77",
   "metadata": {},
   "source": [
    "...and to access that element, use its index (remember that indexes start from 0)!"
   ]
  },
  {
   "cell_type": "code",
   "execution_count": 29,
   "id": "1516ea18-0bc9-4f89-bc48-ed8d728917e9",
   "metadata": {},
   "outputs": [
    {
     "data": {
      "text/plain": [
       "42"
      ]
     },
     "execution_count": 29,
     "metadata": {},
     "output_type": "execute_result"
    }
   ],
   "source": [
    "cool_list[1]"
   ]
  },
  {
   "cell_type": "markdown",
   "id": "f1a01ef2-9948-4622-a019-1306dee672b7",
   "metadata": {},
   "source": [
    "If you want to add elements, `append()` should come in handy."
   ]
  },
  {
   "cell_type": "code",
   "execution_count": 30,
   "id": "54504653-e247-4a84-8adc-12c4c24f2167",
   "metadata": {},
   "outputs": [
    {
     "data": {
      "text/plain": [
       "['bruno', 42, 'boris', 'ellen']"
      ]
     },
     "execution_count": 30,
     "metadata": {},
     "output_type": "execute_result"
    }
   ],
   "source": [
    "cool_list.append('ellen')\n",
    "cool_list"
   ]
  },
  {
   "cell_type": "markdown",
   "id": "8630fa75-7e5b-4a33-95f4-539766e98b93",
   "metadata": {},
   "source": [
    "To reassign elements, just access its index and assign a new value. *By the way, you can also count backwards by using negative indexes*."
   ]
  },
  {
   "cell_type": "code",
   "execution_count": 31,
   "id": "9e308514-a6e4-416a-a7df-e60a8aebf519",
   "metadata": {},
   "outputs": [],
   "source": [
    "cool_list[-1] = 'marek'"
   ]
  },
  {
   "cell_type": "code",
   "execution_count": 32,
   "id": "83305f5d-ff29-44f6-a5bd-034227fae160",
   "metadata": {},
   "outputs": [
    {
     "data": {
      "text/plain": [
       "['bruno', 42, 'boris', 'marek']"
      ]
     },
     "execution_count": 32,
     "metadata": {},
     "output_type": "execute_result"
    }
   ],
   "source": [
    "cool_list"
   ]
  },
  {
   "cell_type": "markdown",
   "id": "ea7cf9bc-fdec-4199-a5bb-0925a8708bb6",
   "metadata": {},
   "source": [
    "Another cool thing is *slicing*. You can grab a slice from a `list` by using this notation (the last index is **exclusive**):"
   ]
  },
  {
   "cell_type": "code",
   "execution_count": 33,
   "id": "8ce81ba2-f9a8-423d-a1e5-4ca45b2ae56c",
   "metadata": {},
   "outputs": [
    {
     "data": {
      "text/plain": [
       "['bruno', 42]"
      ]
     },
     "execution_count": 33,
     "metadata": {},
     "output_type": "execute_result"
    }
   ],
   "source": [
    "cool_list[0:2]"
   ]
  },
  {
   "cell_type": "code",
   "execution_count": 34,
   "id": "6287eeac-ec0a-4618-8f57-7311e98a8997",
   "metadata": {},
   "outputs": [
    {
     "data": {
      "text/plain": [
       "[42, 'boris']"
      ]
     },
     "execution_count": 34,
     "metadata": {},
     "output_type": "execute_result"
    }
   ],
   "source": [
    "cool_list[-3:-1]"
   ]
  },
  {
   "cell_type": "markdown",
   "id": "2541e64c-e4e1-4200-9d43-48aa2b534290",
   "metadata": {},
   "source": [
    "Lastly, to delete items, this is the go-to way:"
   ]
  },
  {
   "cell_type": "code",
   "execution_count": 35,
   "id": "ffc5d4cb-cd1f-48a5-a126-fc7e1969b9da",
   "metadata": {},
   "outputs": [],
   "source": [
    "del cool_list[3]"
   ]
  },
  {
   "cell_type": "code",
   "execution_count": 36,
   "id": "fbfede07-b8a8-49fe-9a02-ec5ee6218f7f",
   "metadata": {},
   "outputs": [
    {
     "data": {
      "text/plain": [
       "['bruno', 42, 'boris']"
      ]
     },
     "execution_count": 36,
     "metadata": {},
     "output_type": "execute_result"
    }
   ],
   "source": [
    "cool_list"
   ]
  },
  {
   "cell_type": "markdown",
   "id": "a2d24707-6dd6-45d2-a8e7-7219a479b640",
   "metadata": {},
   "source": [
    "### Dictionary"
   ]
  },
  {
   "cell_type": "markdown",
   "id": "c1cd210b-897c-4bc5-86ad-6eb6c7fca64d",
   "metadata": {},
   "source": [
    "`dict`s are also collections, but they are based on the priciple of key-value pairs. Each key has an attached value, and to access the value you need the key."
   ]
  },
  {
   "cell_type": "code",
   "execution_count": 37,
   "id": "2fd4932a-7608-4456-af35-3d1c04159671",
   "metadata": {},
   "outputs": [
    {
     "data": {
      "text/plain": [
       "2141000"
      ]
     },
     "execution_count": 37,
     "metadata": {},
     "output_type": "execute_result"
    }
   ],
   "source": [
    "cool_dict = {'city': 'Paris', 'population': 2_141_000}\n",
    "\n",
    "cool_dict['population']"
   ]
  },
  {
   "cell_type": "markdown",
   "id": "7bb7497b-52a8-416a-82b2-3450738ef017",
   "metadata": {},
   "source": [
    "Beware: `len()` counts only the pairs, not the individual keys and values"
   ]
  },
  {
   "cell_type": "code",
   "execution_count": 38,
   "id": "4fde0119-f9cf-4441-8dc0-9d0872cb737d",
   "metadata": {},
   "outputs": [
    {
     "data": {
      "text/plain": [
       "2"
      ]
     },
     "execution_count": 38,
     "metadata": {},
     "output_type": "execute_result"
    }
   ],
   "source": [
    "len(cool_dict)"
   ]
  },
  {
   "cell_type": "markdown",
   "id": "8d9859aa-2d25-4486-be5c-73d758afbd4e",
   "metadata": {},
   "source": [
    "Here you can also check if a key is in a `dict`."
   ]
  },
  {
   "cell_type": "code",
   "execution_count": 39,
   "id": "56b87021-f928-4396-ade6-841e87af8965",
   "metadata": {},
   "outputs": [
    {
     "data": {
      "text/plain": [
       "True"
      ]
     },
     "execution_count": 39,
     "metadata": {},
     "output_type": "execute_result"
    }
   ],
   "source": [
    "'Paris' in cool_dict.values()"
   ]
  },
  {
   "cell_type": "markdown",
   "id": "9fead14a-8798-49d0-8a6a-78bee7c10ca3",
   "metadata": {},
   "source": [
    "To reassign the value of an existing key, just access the key and assign it! If the key doesn't yet exist, it will be created with that value."
   ]
  },
  {
   "cell_type": "code",
   "execution_count": 40,
   "id": "8823b8a3-a6b2-424d-a302-648a28d4c33e",
   "metadata": {},
   "outputs": [
    {
     "data": {
      "text/plain": [
       "{'city': 'sao paulo', 'population': 2141000}"
      ]
     },
     "execution_count": 40,
     "metadata": {},
     "output_type": "execute_result"
    }
   ],
   "source": [
    "cool_dict['city'] = 'sao paulo'\n",
    "cool_dict"
   ]
  },
  {
   "cell_type": "code",
   "execution_count": 41,
   "id": "89c04ff9-9928-4be0-bd17-5ef3ffdcfbb5",
   "metadata": {},
   "outputs": [
    {
     "data": {
      "text/plain": [
       "True"
      ]
     },
     "execution_count": 41,
     "metadata": {},
     "output_type": "execute_result"
    }
   ],
   "source": [
    "'city' in cool_dict"
   ]
  },
  {
   "cell_type": "markdown",
   "id": "ebcf743e-32e4-4f74-8da6-748bacdfccab",
   "metadata": {},
   "source": [
    "If you try to access a key that doesn't exists, however, you get a `KeyError`..."
   ]
  },
  {
   "cell_type": "code",
   "execution_count": 48,
   "id": "450ec410-6c6a-419c-aca1-f3e95a592558",
   "metadata": {},
   "outputs": [],
   "source": [
    "instruments = {'bruno':'guitar', 'paul':'bass'}"
   ]
  },
  {
   "cell_type": "code",
   "execution_count": 49,
   "id": "4a2e9348-a16b-4f77-81fd-3c3352f22720",
   "metadata": {},
   "outputs": [
    {
     "ename": "KeyError",
     "evalue": "'john'",
     "output_type": "error",
     "traceback": [
      "\u001b[0;31m---------------------------------------------------------------------------\u001b[0m",
      "\u001b[0;31mKeyError\u001b[0m                                  Traceback (most recent call last)",
      "Cell \u001b[0;32mIn[49], line 1\u001b[0m\n\u001b[0;32m----> 1\u001b[0m \u001b[43minstruments\u001b[49m\u001b[43m[\u001b[49m\u001b[38;5;124;43m'\u001b[39;49m\u001b[38;5;124;43mjohn\u001b[39;49m\u001b[38;5;124;43m'\u001b[39;49m\u001b[43m]\u001b[49m\n",
      "\u001b[0;31mKeyError\u001b[0m: 'john'"
     ]
    }
   ],
   "source": [
    "instruments['john']"
   ]
  },
  {
   "cell_type": "markdown",
   "id": "aea429cd-03b1-4de2-8192-1c113263c0b1",
   "metadata": {},
   "source": [
    "...one way to avoid that, is to use `get()` together with a fallback value. If the key is not found, the fallback value will be returned!"
   ]
  },
  {
   "cell_type": "code",
   "execution_count": 50,
   "id": "896037eb-62a4-4acf-8d47-40d6ab1d006b",
   "metadata": {},
   "outputs": [
    {
     "data": {
      "text/plain": [
       "'Default instrument'"
      ]
     },
     "execution_count": 50,
     "metadata": {},
     "output_type": "execute_result"
    }
   ],
   "source": [
    "instruments = {'bruno':'guitar', 'paul':'bass'}\n",
    "\n",
    "instruments.get('john', 'Default instrument')"
   ]
  },
  {
   "cell_type": "markdown",
   "id": "58509db1-4a83-4b39-9338-d13c5e65b181",
   "metadata": {},
   "source": [
    "## Variables"
   ]
  },
  {
   "cell_type": "markdown",
   "id": "d0de93fe-1ff9-489f-827a-4304efe9f5fd",
   "metadata": {},
   "source": [
    "A variable is like a box that holds a value."
   ]
  },
  {
   "cell_type": "code",
   "execution_count": 51,
   "id": "f53b1b2f-8444-4368-b2a1-3e27c4c5a7a1",
   "metadata": {},
   "outputs": [],
   "source": [
    "name = 'ellen'"
   ]
  },
  {
   "cell_type": "markdown",
   "id": "d62c0ac9-561d-455f-ae95-7be181a323c8",
   "metadata": {},
   "source": [
    "Once you declare a variable, you can easily reuse it by calling it!"
   ]
  },
  {
   "cell_type": "code",
   "execution_count": 53,
   "id": "a80b2bf3-178d-4d17-967d-ff63079c4a24",
   "metadata": {},
   "outputs": [
    {
     "name": "stdout",
     "output_type": "stream",
     "text": [
      "Livia\n",
      "Ellen\n"
     ]
    }
   ],
   "source": [
    "first = 'Livia'\n",
    "middle = 'Ellen'\n",
    "\n",
    "print(first)\n",
    "print(middle)"
   ]
  },
  {
   "cell_type": "markdown",
   "id": "32c2494f-beb4-4bf1-989b-526c5177a421",
   "metadata": {},
   "source": [
    "String interpolation is a good way to use variables (or really any code) inside of `String`s. Just add an `f` before the `String` so that it becomes a 'formatted `String`'."
   ]
  },
  {
   "cell_type": "code",
   "execution_count": 54,
   "id": "8c7634c4-e11e-40e4-815d-c7aaa3b45f92",
   "metadata": {},
   "outputs": [
    {
     "data": {
      "text/plain": [
       "'Livia Ellen is 27 years old'"
      ]
     },
     "execution_count": 54,
     "metadata": {},
     "output_type": "execute_result"
    }
   ],
   "source": [
    "f'{first} {middle} is {26 + 1} years old'"
   ]
  },
  {
   "cell_type": "markdown",
   "id": "820ac97e-08b8-4e3d-bafe-4a10f4dc11e9",
   "metadata": {},
   "source": [
    "## Control Flow"
   ]
  },
  {
   "cell_type": "markdown",
   "id": "aa291193-769f-4ac7-9b60-a2acdeda9a3e",
   "metadata": {},
   "source": [
    "### if"
   ]
  },
  {
   "cell_type": "markdown",
   "id": "b2782afa-1b69-4690-8d34-888df3e4a2c8",
   "metadata": {},
   "source": [
    "Essentially, `if` will simply check if a condition is `True`, and if yes, will execute the code within the block."
   ]
  },
  {
   "cell_type": "code",
   "execution_count": 57,
   "id": "9e527633-e3e1-4eeb-bfe5-19727852c445",
   "metadata": {},
   "outputs": [
    {
     "name": "stdout",
     "output_type": "stream",
     "text": [
      "26\n",
      "You can become president\n"
     ]
    }
   ],
   "source": [
    "# age = int(input(\"How old are you?\"))\n",
    "age = 26\n",
    "print(age)\n",
    "if age >= 21:\n",
    "    print(\"You can become president\")\n",
    "elif age >= 18:\n",
    "    print(\"You can vote\")\n",
    "else:\n",
    "    print(\"Be patient!\")"
   ]
  },
  {
   "cell_type": "markdown",
   "id": "d23754cc-8b17-4a8a-8962-ecbd107908b1",
   "metadata": {},
   "source": [
    "### for"
   ]
  },
  {
   "cell_type": "markdown",
   "id": "e478853f-bb7e-4b38-b09e-b27611e00d6c",
   "metadata": {},
   "source": [
    "This one will loop over every single element in a collection..."
   ]
  },
  {
   "cell_type": "code",
   "execution_count": 58,
   "id": "a21a5c8f-c1a7-48ef-b41b-2ee8e9ad0412",
   "metadata": {},
   "outputs": [
    {
     "name": "stdout",
     "output_type": "stream",
     "text": [
      "11\n",
      "12\n",
      "13\n",
      "14\n",
      "15\n"
     ]
    }
   ],
   "source": [
    "list_number=[1,2,3,4,5]\n",
    "for number in list_number:\n",
    "    print(number+10)"
   ]
  },
  {
   "cell_type": "code",
   "execution_count": 59,
   "id": "4452c9c5-5358-4894-9337-60acf8e5bfbf",
   "metadata": {},
   "outputs": [
    {
     "data": {
      "text/plain": [
       "5"
      ]
     },
     "execution_count": 59,
     "metadata": {},
     "output_type": "execute_result"
    }
   ],
   "source": [
    "len(list_number)"
   ]
  },
  {
   "cell_type": "code",
   "execution_count": 60,
   "id": "5f521a8f-c873-416a-9199-2605a55a60d6",
   "metadata": {},
   "outputs": [
    {
     "data": {
      "text/plain": [
       "range(0, 5)"
      ]
     },
     "execution_count": 60,
     "metadata": {},
     "output_type": "execute_result"
    }
   ],
   "source": [
    "range(5)\n",
    "#start 0 stop before 5"
   ]
  },
  {
   "cell_type": "code",
   "execution_count": 61,
   "id": "2b225e43-d6c6-4e44-8986-947fee468cc1",
   "metadata": {},
   "outputs": [
    {
     "name": "stdout",
     "output_type": "stream",
     "text": [
      "0\n",
      "2\n",
      "4\n"
     ]
    }
   ],
   "source": [
    "for i in range(0,5,2): #start stop step\n",
    "    print(i)"
   ]
  },
  {
   "cell_type": "code",
   "execution_count": 62,
   "id": "d9292f2a-aa13-4fe5-8da3-9cc206d711cb",
   "metadata": {},
   "outputs": [
    {
     "name": "stdout",
     "output_type": "stream",
     "text": [
      "0\n",
      "1\n",
      "------\n",
      "2\n",
      "3\n",
      "------\n",
      "4\n",
      "5\n",
      "------\n"
     ]
    }
   ],
   "source": [
    "for index in range(0,len(list_number),2):\n",
    "    print(index)\n",
    "    print(list_number[index])\n",
    "    print(\"------\")  #shift + tab"
   ]
  },
  {
   "cell_type": "code",
   "execution_count": 63,
   "id": "098af629-7904-4993-8440-8c9138944a1f",
   "metadata": {},
   "outputs": [
    {
     "name": "stdout",
     "output_type": "stream",
     "text": [
      "cat\n",
      "wolf\n",
      "beetle\n"
     ]
    }
   ],
   "source": [
    "words = ['cat', 'wolf', 'beetle']\n",
    "for value in words:\n",
    "    print(value)"
   ]
  },
  {
   "cell_type": "code",
   "execution_count": 64,
   "id": "f4622f16-0f09-4917-965e-73b0de974a77",
   "metadata": {},
   "outputs": [
    {
     "name": "stdout",
     "output_type": "stream",
     "text": [
      "0\n",
      "cat\n",
      "1\n",
      "wolf\n",
      "2\n",
      "beetle\n"
     ]
    }
   ],
   "source": [
    "words = ['cat', 'wolf', 'beetle']\n",
    "for idx, value in enumerate(words):\n",
    "    print(idx)\n",
    "    print(value)"
   ]
  },
  {
   "cell_type": "code",
   "execution_count": 65,
   "id": "0898ff3b-db45-4350-b597-27f8a8c3663f",
   "metadata": {},
   "outputs": [
    {
     "name": "stdout",
     "output_type": "stream",
     "text": [
      "this is index = 0\n",
      "this is value = 1\n",
      "-----\n",
      "this is index = 1\n",
      "this is value = 2\n",
      "-----\n",
      "this is index = 2\n",
      "this is value = 3\n",
      "-----\n",
      "this is index = 3\n",
      "this is value = 4\n",
      "-----\n",
      "this is index = 4\n",
      "this is value = 5\n",
      "-----\n"
     ]
    }
   ],
   "source": [
    "for index,value in enumerate(list_number):\n",
    "    print(f\"this is index = {index}\")\n",
    "    print(f\"this is value = {value}\")\n",
    "    print(\"-----\")"
   ]
  },
  {
   "cell_type": "code",
   "execution_count": 66,
   "id": "12792aa6-8daa-4c22-8f35-6ffc8322b855",
   "metadata": {},
   "outputs": [],
   "source": [
    "classes = ['python', 'sql', 'ml']\n",
    "new_class_list=[]\n",
    "\n",
    "# goal: change all name to advance class\n",
    "for class_name in classes:\n",
    "    new_class_name=f\"{class_name}_advance\"\n",
    "    new_class_list.append(new_class_name)\n"
   ]
  },
  {
   "cell_type": "code",
   "execution_count": 67,
   "id": "3e86d38c-7da1-4ddb-99fa-1202df651e37",
   "metadata": {},
   "outputs": [],
   "source": [
    "classes = ['python', 'sql', 'ml']\n",
    "new_class_list=[]\n",
    "for class_name in classes:\n",
    "    new_class_list.append(f\"{class_name}_advance\")"
   ]
  },
  {
   "cell_type": "code",
   "execution_count": 68,
   "id": "fd6d25bb-2847-4a32-9292-051e795ef55b",
   "metadata": {},
   "outputs": [
    {
     "data": {
      "text/plain": [
       "['python_advance', 'sql_advance', 'ml_advance']"
      ]
     },
     "execution_count": 68,
     "metadata": {},
     "output_type": "execute_result"
    }
   ],
   "source": [
    "new_class_list"
   ]
  },
  {
   "cell_type": "code",
   "execution_count": 69,
   "id": "ecfb3b15-0bea-45ed-8f8b-f15cd5d37bb7",
   "metadata": {},
   "outputs": [],
   "source": [
    "new_class_list=[f\"{class_name}_advance\" for class_name in classes]"
   ]
  },
  {
   "cell_type": "code",
   "execution_count": 70,
   "id": "330717df-733f-4b83-9aa3-60a90bf8c436",
   "metadata": {},
   "outputs": [],
   "source": [
    "for class_name in classes:\n",
    "    if class_name == \"ml\":\n",
    "        new_class_list.append(f\"{class_name}_advance\")\n",
    "    else:\n",
    "        new_class_list.append(class_name)"
   ]
  },
  {
   "cell_type": "code",
   "execution_count": 71,
   "id": "93343031-ef0e-4fb3-b2a0-d80e4703c5f0",
   "metadata": {},
   "outputs": [
    {
     "data": {
      "text/plain": [
       "['ml_advance']"
      ]
     },
     "execution_count": 71,
     "metadata": {},
     "output_type": "execute_result"
    }
   ],
   "source": [
    "[f\"{class_name}_advance\" for class_name in classes if class_name == \"ml\"]"
   ]
  },
  {
   "cell_type": "code",
   "execution_count": 72,
   "id": "8a76e0be-da03-4278-834a-190eec2358c6",
   "metadata": {},
   "outputs": [
    {
     "data": {
      "text/plain": [
       "['python', 'sql', 'ml_advance']"
      ]
     },
     "execution_count": 72,
     "metadata": {},
     "output_type": "execute_result"
    }
   ],
   "source": [
    "[f\"{class_name}_advance\" if class_name == \"ml\" else class_name for class_name in classes]"
   ]
  },
  {
   "cell_type": "code",
   "execution_count": 73,
   "id": "b9c2a8bb-35ee-44b0-8bfd-3ad9bad7e2cb",
   "metadata": {},
   "outputs": [
    {
     "data": {
      "text/plain": [
       "['python_advance', 'sql_advance', 'ml_advance', 'python', 'sql', 'ml_advance']"
      ]
     },
     "execution_count": 73,
     "metadata": {},
     "output_type": "execute_result"
    }
   ],
   "source": [
    "new_class_list"
   ]
  },
  {
   "cell_type": "code",
   "execution_count": 74,
   "id": "e3fd5ead-c683-4b7b-ad3a-3ddf5a74f47c",
   "metadata": {},
   "outputs": [
    {
     "name": "stdout",
     "output_type": "stream",
     "text": [
      "CAT WOLF BEETLE "
     ]
    }
   ],
   "source": [
    "words = ['cat', 'wolf', 'beetle']\n",
    "\n",
    "for word in words:\n",
    "    print(word.upper(), end = ' ')"
   ]
  },
  {
   "cell_type": "code",
   "execution_count": null,
   "id": "61ca477b-3cf5-4247-bc15-4aed1b3949cb",
   "metadata": {},
   "outputs": [],
   "source": []
  },
  {
   "cell_type": "markdown",
   "id": "c2097f78-6980-4a39-99e9-4d0d2e60cfc0",
   "metadata": {},
   "source": [
    "...and here is the same thing using **list comprehension**"
   ]
  },
  {
   "cell_type": "code",
   "execution_count": 75,
   "id": "bdcfe146-c7fa-4851-9718-6131beb6070b",
   "metadata": {},
   "outputs": [
    {
     "name": "stdout",
     "output_type": "stream",
     "text": [
      "CAT\n",
      "WOLF\n",
      "BEETLE\n"
     ]
    }
   ],
   "source": [
    "not_cool_list = [print(word.upper()) for word in words]"
   ]
  },
  {
   "cell_type": "code",
   "execution_count": 76,
   "id": "55a5c355-c567-4dbd-922c-a02b836dd7b1",
   "metadata": {},
   "outputs": [
    {
     "data": {
      "text/plain": [
       "[None, None, None]"
      ]
     },
     "execution_count": 76,
     "metadata": {},
     "output_type": "execute_result"
    }
   ],
   "source": [
    "not_cool_list"
   ]
  },
  {
   "cell_type": "markdown",
   "id": "8ccf6f3e-1d32-45db-b2b1-a0d97bfe0296",
   "metadata": {},
   "source": [
    "Need the index of each element in the `for` loop? Easy!"
   ]
  },
  {
   "cell_type": "code",
   "execution_count": 77,
   "id": "2452d66b-3ce0-457b-95d8-8a5b6eb50c1c",
   "metadata": {},
   "outputs": [
    {
     "name": "stdout",
     "output_type": "stream",
     "text": [
      "0 CAT\n",
      "1 WOLF\n",
      "2 BEETLE\n"
     ]
    }
   ],
   "source": [
    "for index, word in enumerate(words):\n",
    "    print(index, word.upper())"
   ]
  },
  {
   "cell_type": "markdown",
   "id": "e11739f1-d2ba-4824-9b27-c690f39958d3",
   "metadata": {},
   "source": [
    "To loop over `dict`s, use this:"
   ]
  },
  {
   "cell_type": "code",
   "execution_count": 78,
   "id": "c8043418-e698-4c3b-a2cc-00a487871176",
   "metadata": {},
   "outputs": [
    {
     "name": "stdout",
     "output_type": "stream",
     "text": [
      "Bruno plays the guitar\n",
      "Paul plays the bass\n"
     ]
    }
   ],
   "source": [
    "instruments = {'bruno': 'guitar', 'paul':'bass'}\n",
    "\n",
    "for beatle, instrument in instruments.items():\n",
    "    print(f'{beatle.capitalize()} plays the {instrument}')"
   ]
  },
  {
   "cell_type": "markdown",
   "id": "47e32f39-246d-4d19-8de5-07f553c97473",
   "metadata": {},
   "source": [
    "`items()` returns a list of `tuple`s with each one being a key-value pair."
   ]
  },
  {
   "cell_type": "code",
   "execution_count": 79,
   "id": "5f76b6ed-668a-4b16-ab81-4e40fb855fc1",
   "metadata": {},
   "outputs": [
    {
     "data": {
      "text/plain": [
       "dict_items([('city', 'sao paulo'), ('population', 2141000)])"
      ]
     },
     "execution_count": 79,
     "metadata": {},
     "output_type": "execute_result"
    }
   ],
   "source": [
    "cool_dict.items()"
   ]
  },
  {
   "cell_type": "markdown",
   "id": "2b0b78df-13b7-4a9e-98c3-5e2e27f7d5a0",
   "metadata": {},
   "source": [
    "### While"
   ]
  },
  {
   "cell_type": "markdown",
   "id": "3ed19481-f585-46d4-8d12-4ea92227a260",
   "metadata": {},
   "source": [
    "This will run while a condition is `True`"
   ]
  },
  {
   "cell_type": "code",
   "execution_count": 80,
   "id": "8d8719e8-95cd-4eb8-8f67-32f5e8194b2a",
   "metadata": {},
   "outputs": [
    {
     "name": "stdout",
     "output_type": "stream",
     "text": [
      "1\n",
      "2\n",
      "3\n",
      "4\n"
     ]
    }
   ],
   "source": [
    "for x in range(1,5,1):\n",
    "    print(x)"
   ]
  },
  {
   "cell_type": "code",
   "execution_count": 81,
   "id": "a62aafd4-78ec-42d2-932f-d44b6001290a",
   "metadata": {},
   "outputs": [
    {
     "name": "stdout",
     "output_type": "stream",
     "text": [
      "1\n",
      "2\n",
      "3\n",
      "4\n"
     ]
    }
   ],
   "source": [
    "i = 1 # start\n",
    "while i<5:\n",
    "    print(i)\n",
    "    i += 1"
   ]
  },
  {
   "cell_type": "markdown",
   "id": "a6eedd56-2d0c-48e1-acb1-3b29a94f7756",
   "metadata": {},
   "source": [
    "## Functions"
   ]
  },
  {
   "cell_type": "markdown",
   "id": "73622936-d176-4df8-a373-f8f9f6ae461c",
   "metadata": {},
   "source": [
    "Functions (also called methods) are nothing more than reusable pieces of code. You define them once and then you can use them as many times as you want!"
   ]
  },
  {
   "cell_type": "code",
   "execution_count": 82,
   "id": "7042bd85-0ee8-4226-9bfc-f9af86e0c01c",
   "metadata": {},
   "outputs": [],
   "source": [
    "def is_even(number=0,name='ellen'):\n",
    "    author=name\n",
    "    print(f\"{author} says\")\n",
    "    return number % 2 == 0\n"
   ]
  },
  {
   "cell_type": "code",
   "execution_count": 83,
   "id": "4e9eec3a-c60a-4366-9260-413c63861785",
   "metadata": {},
   "outputs": [
    {
     "name": "stdout",
     "output_type": "stream",
     "text": [
      "\n",
      "SDA\n"
     ]
    }
   ],
   "source": [
    "print()\n",
    "print(\"SDA\")"
   ]
  },
  {
   "cell_type": "code",
   "execution_count": 84,
   "id": "6483cf7c-cd45-44ba-94df-e57ff1a06d8b",
   "metadata": {},
   "outputs": [],
   "source": [
    "def is_even(number,name=\"ellen\", age=21):\n",
    "    \"\"\"this func check foreven numbers\"\"\" #check for description\n",
    "    # author/name is the person who runs the code\n",
    "    author=name\n",
    "    print(f\"{author} says\")\n",
    "    return number % 2 == 0"
   ]
  },
  {
   "cell_type": "code",
   "execution_count": 85,
   "id": "afd30af7-f02f-4b99-a939-b682234898cd",
   "metadata": {},
   "outputs": [
    {
     "name": "stdout",
     "output_type": "stream",
     "text": [
      "\u001b[0;31mDocstring:\u001b[0m\n",
      "print(value, ..., sep=' ', end='\\n', file=sys.stdout, flush=False)\n",
      "\n",
      "Prints the values to a stream, or to sys.stdout by default.\n",
      "Optional keyword arguments:\n",
      "file:  a file-like object (stream); defaults to the current sys.stdout.\n",
      "sep:   string inserted between values, default a space.\n",
      "end:   string appended after the last value, default a newline.\n",
      "flush: whether to forcibly flush the stream.\n",
      "\u001b[0;31mType:\u001b[0m      builtin_function_or_method"
     ]
    }
   ],
   "source": [
    "print?"
   ]
  },
  {
   "cell_type": "code",
   "execution_count": 86,
   "id": "dfb2e48a-52d4-4026-b116-71c9d0bc351f",
   "metadata": {},
   "outputs": [
    {
     "name": "stdout",
     "output_type": "stream",
     "text": [
      "\u001b[0;31mSignature:\u001b[0m \u001b[0mis_even\u001b[0m\u001b[0;34m(\u001b[0m\u001b[0mnumber\u001b[0m\u001b[0;34m,\u001b[0m \u001b[0mname\u001b[0m\u001b[0;34m=\u001b[0m\u001b[0;34m'ellen'\u001b[0m\u001b[0;34m,\u001b[0m \u001b[0mage\u001b[0m\u001b[0;34m=\u001b[0m\u001b[0;36m21\u001b[0m\u001b[0;34m)\u001b[0m\u001b[0;34m\u001b[0m\u001b[0;34m\u001b[0m\u001b[0m\n",
      "\u001b[0;31mDocstring:\u001b[0m this func check foreven numbers\n",
      "\u001b[0;31mFile:\u001b[0m      /var/folders/_3/h3zgh6c16nn92sj9z08yw2rc0000gp/T/ipykernel_16477/79437075.py\n",
      "\u001b[0;31mType:\u001b[0m      function"
     ]
    }
   ],
   "source": [
    "is_even?"
   ]
  },
  {
   "cell_type": "code",
   "execution_count": 87,
   "id": "afe76454-1411-4218-ab5f-3ff98ced2f0c",
   "metadata": {},
   "outputs": [
    {
     "name": "stdout",
     "output_type": "stream",
     "text": [
      "Help on built-in function print in module builtins:\n",
      "\n",
      "print(...)\n",
      "    print(value, ..., sep=' ', end='\\n', file=sys.stdout, flush=False)\n",
      "    \n",
      "    Prints the values to a stream, or to sys.stdout by default.\n",
      "    Optional keyword arguments:\n",
      "    file:  a file-like object (stream); defaults to the current sys.stdout.\n",
      "    sep:   string inserted between values, default a space.\n",
      "    end:   string appended after the last value, default a newline.\n",
      "    flush: whether to forcibly flush the stream.\n",
      "\n"
     ]
    }
   ],
   "source": [
    "help(print)"
   ]
  },
  {
   "cell_type": "code",
   "execution_count": 88,
   "id": "b173dda5-6249-46a0-ad8f-deea37bfee1f",
   "metadata": {},
   "outputs": [
    {
     "name": "stdout",
     "output_type": "stream",
     "text": [
      "ellen says\n",
      "True\n"
     ]
    }
   ],
   "source": [
    "print(is_even(20, age=21,name=\"ellen\",))"
   ]
  },
  {
   "cell_type": "code",
   "execution_count": 89,
   "id": "9eec5fd2-a7c0-46da-924a-a30387916841",
   "metadata": {},
   "outputs": [
    {
     "name": "stdout",
     "output_type": "stream",
     "text": [
      "amro says\n"
     ]
    },
    {
     "data": {
      "text/plain": [
       "True"
      ]
     },
     "execution_count": 89,
     "metadata": {},
     "output_type": "execute_result"
    }
   ],
   "source": [
    "is_even(name='amro',number=20)"
   ]
  },
  {
   "cell_type": "markdown",
   "id": "ad664b5f-5701-4f5b-a6d9-a60e4f2d7443",
   "metadata": {},
   "source": [
    "Here, `number` is a **keyword argument**, so you can either give it by position (like **positional arguments**) or by keyword."
   ]
  },
  {
   "cell_type": "code",
   "execution_count": 90,
   "id": "ddffa478-df6d-4f5e-9215-8fa23bc6bd1d",
   "metadata": {},
   "outputs": [],
   "source": [
    "def is_odd(number = 0):\n",
    "    return number % 2 == 1"
   ]
  },
  {
   "cell_type": "code",
   "execution_count": 91,
   "id": "d3d8311d-dac7-4526-a7cf-c86b73a836e3",
   "metadata": {},
   "outputs": [
    {
     "data": {
      "text/plain": [
       "True"
      ]
     },
     "execution_count": 91,
     "metadata": {},
     "output_type": "execute_result"
    }
   ],
   "source": [
    "is_odd(number = 3)"
   ]
  },
  {
   "cell_type": "code",
   "execution_count": null,
   "id": "f0ecf223",
   "metadata": {},
   "outputs": [],
   "source": []
  },
  {
   "cell_type": "code",
   "execution_count": null,
   "id": "4f6c4a96",
   "metadata": {},
   "outputs": [],
   "source": []
  }
 ],
 "metadata": {
  "kernelspec": {
   "display_name": "Python 3 (ipykernel)",
   "language": "python",
   "name": "python3"
  },
  "language_info": {
   "codemirror_mode": {
    "name": "ipython",
    "version": 3
   },
   "file_extension": ".py",
   "mimetype": "text/x-python",
   "name": "python",
   "nbconvert_exporter": "python",
   "pygments_lexer": "ipython3",
   "version": "3.10.6"
  },
  "toc-autonumbering": true
 },
 "nbformat": 4,
 "nbformat_minor": 5
}
