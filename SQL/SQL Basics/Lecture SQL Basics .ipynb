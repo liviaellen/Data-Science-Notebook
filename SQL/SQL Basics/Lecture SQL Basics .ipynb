{
 "cells": [
  {
   "cell_type": "markdown",
   "id": "a4380f82",
   "metadata": {},
   "source": [
    "**Querying the Database**"
   ]
  },
  {
   "cell_type": "markdown",
   "id": "21c7fbb2",
   "metadata": {},
   "source": [
    "## Basic"
   ]
  },
  {
   "cell_type": "markdown",
   "id": "be0ef0e5",
   "metadata": {},
   "source": [
    "- import client\n",
    "- connect to database\n",
    "- read it\n",
    "- execute querries\n",
    "- fetch rows"
   ]
  },
  {
   "cell_type": "code",
   "execution_count": 1,
   "id": "dafa0304",
   "metadata": {},
   "outputs": [
    {
     "name": "stdout",
     "output_type": "stream",
     "text": [
      "Lecture SQL Basics .ipynb  \u001b[1m\u001b[36mdata\u001b[m\u001b[m\n",
      "SQL Basics Cheat Sheet.pdf script.txt\n",
      "SQL_Script_Livia_Ellen.sql\n"
     ]
    }
   ],
   "source": [
    "!ls"
   ]
  },
  {
   "cell_type": "code",
   "execution_count": 2,
   "id": "10963a1e",
   "metadata": {},
   "outputs": [
    {
     "name": "stdout",
     "output_type": "stream",
     "text": [
      "Screen Shot 2023-07-13 at 08.20.44.png soccer.sqlite\n"
     ]
    }
   ],
   "source": [
    "!ls data/"
   ]
  },
  {
   "cell_type": "code",
   "execution_count": 18,
   "id": "0738f365",
   "metadata": {},
   "outputs": [],
   "source": [
    "import sqlite3   #import the module, no pip install needed!\n",
    "\n",
    "conn = sqlite3.connect('data/soccer_2.sqlite')  #connect to my database, pass the path\n",
    "c = conn.cursor()  #reader"
   ]
  },
  {
   "cell_type": "code",
   "execution_count": 20,
   "id": "50d09972",
   "metadata": {},
   "outputs": [
    {
     "ename": "ProgrammingError",
     "evalue": "Cannot operate on a closed database.",
     "output_type": "error",
     "traceback": [
      "\u001b[0;31m---------------------------------------------------------------------------\u001b[0m",
      "\u001b[0;31mProgrammingError\u001b[0m                          Traceback (most recent call last)",
      "Cell \u001b[0;32mIn[20], line 1\u001b[0m\n\u001b[0;32m----> 1\u001b[0m \u001b[43mc\u001b[49m\u001b[38;5;241;43m.\u001b[39;49m\u001b[43mexecute\u001b[49m\u001b[43m(\u001b[49m\u001b[38;5;124;43m\"\u001b[39;49m\u001b[38;5;124;43mSELECT * FROM Country\u001b[39;49m\u001b[38;5;124;43m\"\u001b[39;49m\u001b[43m)\u001b[49m  \u001b[38;5;66;03m#execute a query\u001b[39;00m\n\u001b[1;32m      2\u001b[0m rows \u001b[38;5;241m=\u001b[39m c\u001b[38;5;241m.\u001b[39mfetchall()  \u001b[38;5;66;03m#give all rows matching the SQL query\u001b[39;00m\n\u001b[1;32m      3\u001b[0m conn\u001b[38;5;241m.\u001b[39mclose()\n",
      "\u001b[0;31mProgrammingError\u001b[0m: Cannot operate on a closed database."
     ]
    }
   ],
   "source": [
    "c.execute(\"SELECT * FROM Country\")  #execute a query\n",
    "rows = c.fetchall()  #give all rows matching the SQL query\n",
    "conn.close()"
   ]
  },
  {
   "cell_type": "code",
   "execution_count": null,
   "id": "ecc6d056",
   "metadata": {},
   "outputs": [],
   "source": []
  },
  {
   "cell_type": "code",
   "execution_count": 9,
   "id": "68e26fe8",
   "metadata": {},
   "outputs": [
    {
     "data": {
      "text/plain": [
       "[(1, 'Belgium'),\n",
       " (1729, 'England'),\n",
       " (4769, 'France'),\n",
       " (7809, 'Germany'),\n",
       " (10257, 'Italy'),\n",
       " (13274, 'Netherlands'),\n",
       " (15722, 'Poland'),\n",
       " (17642, 'Portugal'),\n",
       " (19694, 'Scotland'),\n",
       " (21518, 'Spain'),\n",
       " (24558, 'Switzerland')]"
      ]
     },
     "execution_count": 9,
     "metadata": {},
     "output_type": "execute_result"
    }
   ],
   "source": [
    "rows"
   ]
  },
  {
   "cell_type": "code",
   "execution_count": 11,
   "id": "3492f783",
   "metadata": {},
   "outputs": [
    {
     "name": "stdout",
     "output_type": "stream",
     "text": [
      "<class 'list'>\n"
     ]
    }
   ],
   "source": [
    "print(type(rows))  #rows is a list"
   ]
  },
  {
   "cell_type": "code",
   "execution_count": 12,
   "id": "6e5ff779",
   "metadata": {},
   "outputs": [
    {
     "data": {
      "text/plain": [
       "[(1, 'Belgium'),\n",
       " (1729, 'England'),\n",
       " (4769, 'France'),\n",
       " (7809, 'Germany'),\n",
       " (10257, 'Italy'),\n",
       " (13274, 'Netherlands'),\n",
       " (15722, 'Poland'),\n",
       " (17642, 'Portugal'),\n",
       " (19694, 'Scotland'),\n",
       " (21518, 'Spain'),\n",
       " (24558, 'Switzerland')]"
      ]
     },
     "execution_count": 12,
     "metadata": {},
     "output_type": "execute_result"
    }
   ],
   "source": [
    "rows"
   ]
  },
  {
   "cell_type": "code",
   "execution_count": 13,
   "id": "3c328d3a",
   "metadata": {},
   "outputs": [
    {
     "name": "stdout",
     "output_type": "stream",
     "text": [
      "(1, 'Belgium')\n"
     ]
    }
   ],
   "source": [
    "print(rows[0]) #my first row contain all of the values of the columns of my SQL query"
   ]
  },
  {
   "cell_type": "code",
   "execution_count": 14,
   "id": "90c2f85a",
   "metadata": {},
   "outputs": [
    {
     "name": "stdout",
     "output_type": "stream",
     "text": [
      "(1729, 'England')\n"
     ]
    }
   ],
   "source": [
    "print(rows[1]) #second row of my SQL query"
   ]
  },
  {
   "cell_type": "code",
   "execution_count": 10,
   "id": "9c3ab395",
   "metadata": {},
   "outputs": [
    {
     "name": "stdout",
     "output_type": "stream",
     "text": [
      "<class 'tuple'>\n"
     ]
    }
   ],
   "source": [
    "print(type(rows[0])) #rows is a list of tuples"
   ]
  },
  {
   "cell_type": "code",
   "execution_count": null,
   "id": "df5cb8e5",
   "metadata": {},
   "outputs": [],
   "source": []
  },
  {
   "cell_type": "code",
   "execution_count": 11,
   "id": "fc7f1938",
   "metadata": {
    "scrolled": true
   },
   "outputs": [
    {
     "name": "stdout",
     "output_type": "stream",
     "text": [
      "(1, 'Belgium')\n",
      "(1729, 'England')\n",
      "(4769, 'France')\n",
      "(7809, 'Germany')\n",
      "(10257, 'Italy')\n",
      "(13274, 'Netherlands')\n",
      "(15722, 'Poland')\n",
      "(17642, 'Portugal')\n",
      "(19694, 'Scotland')\n",
      "(21518, 'Spain')\n",
      "(24558, 'Switzerland')\n"
     ]
    }
   ],
   "source": [
    "for row in rows:   #all rows of my SQL query, iterate over the rows to use them\n",
    "    print (row)"
   ]
  },
  {
   "cell_type": "code",
   "execution_count": 12,
   "id": "feca7d24",
   "metadata": {},
   "outputs": [
    {
     "name": "stdout",
     "output_type": "stream",
     "text": [
      "1\n",
      "1729\n",
      "4769\n",
      "7809\n",
      "10257\n",
      "13274\n",
      "15722\n",
      "17642\n",
      "19694\n",
      "21518\n",
      "24558\n"
     ]
    }
   ],
   "source": [
    "for row in rows:   #all rows of my SQL query, iterate over the rows to use them\n",
    "    print (row[0])"
   ]
  },
  {
   "cell_type": "code",
   "execution_count": 13,
   "id": "dc8c7a73",
   "metadata": {},
   "outputs": [
    {
     "name": "stdout",
     "output_type": "stream",
     "text": [
      "Belgium\n",
      "England\n",
      "France\n",
      "Germany\n",
      "Italy\n",
      "Netherlands\n",
      "Poland\n",
      "Portugal\n",
      "Scotland\n",
      "Spain\n",
      "Switzerland\n"
     ]
    }
   ],
   "source": [
    "for row in rows:   #all rows of my SQL query, iterate over the rows to use them\n",
    "    print (row[1])"
   ]
  },
  {
   "cell_type": "markdown",
   "id": "54d58820",
   "metadata": {},
   "source": [
    "👉There is a mapping between Python types and SQL types:\n",
    " \n",
    " \n",
    "    in SQL    | in Python\n",
    "    integer  --> integer\n",
    "    text     -->  string\n",
    "    date     -->  string  (Look at datetime.strptime ) #Google it!"
   ]
  },
  {
   "cell_type": "code",
   "execution_count": 19,
   "id": "24c50f39",
   "metadata": {
    "scrolled": true
   },
   "outputs": [
    {
     "name": "stdout",
     "output_type": "stream",
     "text": [
      "<class 'int'>\n",
      "<class 'int'>\n",
      "<class 'int'>\n",
      "<class 'int'>\n",
      "<class 'int'>\n",
      "<class 'int'>\n",
      "<class 'int'>\n",
      "<class 'int'>\n",
      "<class 'int'>\n",
      "<class 'int'>\n",
      "<class 'int'>\n"
     ]
    }
   ],
   "source": [
    "for row in rows:   #all rows of my SQL query, iterate over the rows to use them\n",
    "    print (type(row[0]))"
   ]
  },
  {
   "cell_type": "code",
   "execution_count": 20,
   "id": "136fad77",
   "metadata": {
    "scrolled": true
   },
   "outputs": [
    {
     "name": "stdout",
     "output_type": "stream",
     "text": [
      "<class 'str'>\n",
      "<class 'str'>\n",
      "<class 'str'>\n",
      "<class 'str'>\n",
      "<class 'str'>\n",
      "<class 'str'>\n",
      "<class 'str'>\n",
      "<class 'str'>\n",
      "<class 'str'>\n",
      "<class 'str'>\n",
      "<class 'str'>\n"
     ]
    }
   ],
   "source": [
    "for row in rows:   #all rows of my SQL query, iterate over the rows to use them\n",
    "    print (type(row[1]))"
   ]
  },
  {
   "cell_type": "markdown",
   "id": "17992704",
   "metadata": {},
   "source": [
    "## Advanced"
   ]
  },
  {
   "cell_type": "code",
   "execution_count": 14,
   "id": "36b5cb7e",
   "metadata": {},
   "outputs": [],
   "source": [
    "conn = sqlite3.connect('data/soccer.sqlite')\n",
    "conn.row_factory = sqlite3.Row    #addition to avoid indexes and use column names\n",
    "c = conn.cursor()"
   ]
  },
  {
   "cell_type": "code",
   "execution_count": 15,
   "id": "fd01da31",
   "metadata": {},
   "outputs": [],
   "source": [
    "c.execute(\"SELECT * FROM Country\")\n",
    "rows = c.fetchall()   #now rows is a list of rows"
   ]
  },
  {
   "cell_type": "code",
   "execution_count": 16,
   "id": "771942aa",
   "metadata": {},
   "outputs": [
    {
     "data": {
      "text/plain": [
       "[<sqlite3.Row at 0x106254d60>,\n",
       " <sqlite3.Row at 0x106256d70>,\n",
       " <sqlite3.Row at 0x1061cd570>,\n",
       " <sqlite3.Row at 0x1061cc460>,\n",
       " <sqlite3.Row at 0x1060a4d60>,\n",
       " <sqlite3.Row at 0x106293820>,\n",
       " <sqlite3.Row at 0x1062926b0>,\n",
       " <sqlite3.Row at 0x106293520>,\n",
       " <sqlite3.Row at 0x1062924a0>,\n",
       " <sqlite3.Row at 0x1062696c0>,\n",
       " <sqlite3.Row at 0x106269db0>]"
      ]
     },
     "execution_count": 16,
     "metadata": {},
     "output_type": "execute_result"
    }
   ],
   "source": [
    "rows"
   ]
  },
  {
   "cell_type": "code",
   "execution_count": 17,
   "id": "4f735d33",
   "metadata": {},
   "outputs": [
    {
     "name": "stdout",
     "output_type": "stream",
     "text": [
      "Belgium\n",
      "England\n",
      "France\n",
      "Germany\n",
      "Italy\n",
      "Netherlands\n",
      "Poland\n",
      "Portugal\n",
      "Scotland\n",
      "Spain\n",
      "Switzerland\n"
     ]
    }
   ],
   "source": [
    "for row in rows:  \n",
    "    print (row['name'])"
   ]
  },
  {
   "cell_type": "markdown",
   "id": "55c08534",
   "metadata": {},
   "source": [
    "### Fetch One"
   ]
  },
  {
   "cell_type": "code",
   "execution_count": 24,
   "id": "a3ee9e5f",
   "metadata": {},
   "outputs": [
    {
     "name": "stdout",
     "output_type": "stream",
     "text": [
      "(1, 'Belgium')\n"
     ]
    }
   ],
   "source": [
    "c.execute(\"SELECT * FROM Country\")\n",
    "row = c.fetchone()\n",
    "print(row)"
   ]
  },
  {
   "cell_type": "markdown",
   "id": "4a3dabcc",
   "metadata": {},
   "source": [
    "👉Useful when I know it will return only one row"
   ]
  },
  {
   "cell_type": "code",
   "execution_count": 29,
   "id": "37abc05c",
   "metadata": {},
   "outputs": [
    {
     "name": "stdout",
     "output_type": "stream",
     "text": [
      "1 - Belgium\n"
     ]
    }
   ],
   "source": [
    "c.execute(\"SELECT * FROM Country WHERE Country.id = 1\")\n",
    "row = c.fetchone()\n",
    "print(row[0], '-' ,row[1])"
   ]
  },
  {
   "cell_type": "code",
   "execution_count": 30,
   "id": "9e5d5799",
   "metadata": {},
   "outputs": [
    {
     "name": "stdout",
     "output_type": "stream",
     "text": [
      "None\n"
     ]
    }
   ],
   "source": [
    "c.execute(\"SELECT * FROM Country WHERE Country.id = 2\")\n",
    "row = c.fetchone()\n",
    "print(row)"
   ]
  },
  {
   "cell_type": "markdown",
   "id": "8fa82b7a",
   "metadata": {},
   "source": [
    "👉Could be used in a condional clause\n",
    "\n",
    "     If row is none then do something..."
   ]
  },
  {
   "cell_type": "markdown",
   "id": "481bf2c8",
   "metadata": {},
   "source": [
    "👉 DO NOT WASTE RESOURCES!"
   ]
  },
  {
   "cell_type": "markdown",
   "id": "408cb9da",
   "metadata": {},
   "source": [
    "👉 Other similar modules for other databases postgreesql --> psycopg2"
   ]
  },
  {
   "cell_type": "code",
   "execution_count": null,
   "id": "e2f6e42b",
   "metadata": {},
   "outputs": [],
   "source": []
  }
 ],
 "metadata": {
  "kernelspec": {
   "display_name": "Python 3 (ipykernel)",
   "language": "python",
   "name": "python3"
  },
  "language_info": {
   "codemirror_mode": {
    "name": "ipython",
    "version": 3
   },
   "file_extension": ".py",
   "mimetype": "text/x-python",
   "name": "python",
   "nbconvert_exporter": "python",
   "pygments_lexer": "ipython3",
   "version": "3.10.6"
  },
  "toc": {
   "base_numbering": 1,
   "nav_menu": {},
   "number_sections": true,
   "sideBar": true,
   "skip_h1_title": false,
   "title_cell": "Table of Contents",
   "title_sidebar": "Contents",
   "toc_cell": false,
   "toc_position": {},
   "toc_section_display": true,
   "toc_window_display": false
  }
 },
 "nbformat": 4,
 "nbformat_minor": 5
}
